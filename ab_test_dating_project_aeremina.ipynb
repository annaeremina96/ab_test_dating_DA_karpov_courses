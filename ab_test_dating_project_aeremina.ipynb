{
 "cells": [
  {
   "cell_type": "markdown",
   "metadata": {},
   "source": [
    "# Проект: вариант 3\n",
    "\n",
    "### Представьте, что вы работаете в крупном дейтинговом приложении.\n",
    "Помимо базовых функций, в приложении также имеется премиум-подписка, которая дает доступ к ряду важных дополнительных возможностей. Был проведен A/B тест, в рамках которого для новых пользователей из нескольких стран была изменена стоимость премиум-подписки* при покупке через две новые платежные системы. При этом стоимость пробного периода оставалась прежней.\n",
    "\n",
    "**Проверьте:**\n",
    "Был ли эксперимент успешен в целом.\n",
    "\n",
    "_*Деньги за подписку списываются ежемесячно до тех пор, пока пользователь её не отменит_"
   ]
  },
  {
   "cell_type": "markdown",
   "metadata": {},
   "source": [
    "### Данные\n",
    "\n",
    "**Всего есть три группы: тестовая (test), контрольная 1 (control_1) и контрольная 2 (control_2). Для каждой из них:**\n",
    "\n",
    "users_*.csv – информация о пользователях:\n",
    "\n",
    "- uid – идентификатор пользователя\n",
    "- age – возраст\n",
    "- attraction_coeff – коэффициент привлекательности (от 0 до 1000, лайки / просмотры * 1000)\n",
    "- coins – число монеток (внутренняя валюта)\n",
    "- country – страна  \n",
    "- visit_days – в какие дни после регистрации пользователь посещал приложение (напр. в 1, затем в 7)\n",
    "- gender – пол\n",
    "- age_filter_start  – фильтр поиска, мин. значение \n",
    "- age_filter_end  – фильтр поиска, макс. значение \n",
    "- views_count – число полученных оценок \n",
    "- was_premium – был ли когда-либо премиум (либо пробный период премиум-статуса, либо купленный за деньги)\n",
    "- is_premium –  является ли премиум\n",
    "- total_revenue – нормированная выручка\n",
    "\n",
    "transactions_*.csv – информация о платежах пользователей:\n",
    "\n",
    "- uid – идентификатор пользователя\n",
    "- country – страна\n",
    "- joined_at – дата и время регистрации\n",
    "- paid_at – дата и время покупки\n",
    "- revenue – нормированная выручка\n",
    "- payment_id – идентификатор платежа\n",
    "- from_page – откуда пользователь перешел на страницу оплаты\n",
    "- product_type – тип продукта (trial_premium – пробная премиум-подписка, premium_no_trial – премиум-подписка без пробной, coins – подписка за внутреннюю валюту, other_type – другое) "
   ]
  },
  {
   "cell_type": "markdown",
   "metadata": {},
   "source": [
    "### Файлы\n",
    "\n",
    "- users_test – информация о пользователях в тестовой группе\n",
    "- users_control_1 – информация о пользователях в первой контрольной группе\n",
    "- users_control_2 – информация о пользователях во второй контрольной группе \n",
    "- transactions_test – информация о платежах пользователей в тестовой группе \n",
    "- transactions_control_1 – информация о платежах пользователей в первой контрольной группе\n",
    "- transactions_control_2 – информация о платежах пользователей во второй контрольной группе "
   ]
  },
  {
   "cell_type": "markdown",
   "metadata": {},
   "source": [
    "### План\n",
    "\n",
    "1. **Сначала сделаем небольшой предварительный анализ:**\n",
    "    - Посмотрим на данные и изучим их, внесем необходимые изменения\n",
    "    - Отберем нужных пользователей (новых, из определенных стран и с определенными платежными системами оплаты)\n",
    "    \n",
    "    \n",
    "2. **Общая оценка данных:**\n",
    "    - Сравним группы для определения репрезентативности выборок\n",
    "    - Построим графики\n",
    "    \n",
    "       \n",
    "3. **A/A/B тесты:**\n",
    "     - Выбираем гипотезы \n",
    "     - Выбираем подходящие статистические тесты\n",
    "     - Тестируем\n",
    "     \n",
    "         \n",
    "4. **Подводим итоги:**\n",
    "    - Формулируем вывод \n",
    "    - Отвечаем на заданный вопрос: был ли эксперимент по изменению стоимости премиум-подписки в приложении успешен в целом"
   ]
  },
  {
   "cell_type": "markdown",
   "metadata": {},
   "source": [
    "## 1: Предварительный анализ\n",
    "\n",
    "**Загружаем данные**"
   ]
  },
  {
   "cell_type": "code",
   "execution_count": 1,
   "metadata": {},
   "outputs": [],
   "source": [
    "# Импортируем нужные библиотеки\n",
    "import pandas as pd\n",
    "import numpy as np\n",
    "import requests\n",
    "from io import BytesIO\n",
    "import datetime \n",
    "\n",
    "import scipy.stats as ss\n",
    "from scipy.stats import chi2_contingency, f_oneway, kruskal, ttest_ind, mannwhitneyu\n",
    "import pingouin as pg\n",
    "\n",
    "import seaborn as sns\n",
    "import matplotlib.pyplot as plt\n",
    "\n",
    "import warnings\n",
    "warnings.filterwarnings('ignore')\n",
    "\n",
    "%matplotlib inline\n",
    "sns.set_style(\"white\")"
   ]
  },
  {
   "cell_type": "code",
   "execution_count": 2,
   "metadata": {},
   "outputs": [],
   "source": [
    "# Скачиваем данные с Яндекс.Диска\n",
    "def get_data(public_key):\n",
    "    base_url = 'https://cloud-api.yandex.net/v1/disk/public/resources/download?'\n",
    "    response = requests.get(base_url + 'public_key=' + public_key)\n",
    "    download_response = requests.get(response.json()['href'])\n",
    "    df = pd.read_csv(BytesIO(download_response.content), sep = ';')\n",
    "    return df"
   ]
  },
  {
   "cell_type": "code",
   "execution_count": 3,
   "metadata": {},
   "outputs": [],
   "source": [
    "# Читаем наши файлы\n",
    "users_test             = get_data('https://disk.yandex.ru/d/4XXIME4osGrMRA')\n",
    "users_control_1        = get_data('https://disk.yandex.ru/d/yJFydMNNGkEKfg')\n",
    "users_control_2        = get_data('https://disk.yandex.ru/d/br6KkQupzzTGoQ')\n",
    "transactions_test      = get_data('https://disk.yandex.ru/d/gvCWpZ55ODzs2g')\n",
    "transactions_control_1 = get_data('https://disk.yandex.ru/d/VY5W0keMX5TZBQ')\n",
    "transactions_control_2 = get_data('https://disk.yandex.ru/d/th5GL0mGOc-qzg')"
   ]
  },
  {
   "cell_type": "markdown",
   "metadata": {},
   "source": [
    "**Посмотрим на наши df, изучим их тип данных и пропущенные значения, внесем необходимые изменения**"
   ]
  },
  {
   "cell_type": "code",
   "execution_count": 4,
   "metadata": {},
   "outputs": [
    {
     "data": {
      "text/html": [
       "<div>\n",
       "<style scoped>\n",
       "    .dataframe tbody tr th:only-of-type {\n",
       "        vertical-align: middle;\n",
       "    }\n",
       "\n",
       "    .dataframe tbody tr th {\n",
       "        vertical-align: top;\n",
       "    }\n",
       "\n",
       "    .dataframe thead th {\n",
       "        text-align: right;\n",
       "    }\n",
       "</style>\n",
       "<table border=\"1\" class=\"dataframe\">\n",
       "  <thead>\n",
       "    <tr style=\"text-align: right;\">\n",
       "      <th></th>\n",
       "      <th>uid</th>\n",
       "      <th>age</th>\n",
       "      <th>attraction_coeff</th>\n",
       "      <th>coins</th>\n",
       "      <th>country</th>\n",
       "      <th>visit_days</th>\n",
       "      <th>gender</th>\n",
       "      <th>age_filter_start</th>\n",
       "      <th>age_filter_end</th>\n",
       "      <th>views_count</th>\n",
       "      <th>was_premium</th>\n",
       "      <th>is_premium</th>\n",
       "      <th>total_revenue</th>\n",
       "    </tr>\n",
       "  </thead>\n",
       "  <tbody>\n",
       "    <tr>\n",
       "      <th>0</th>\n",
       "      <td>892309896</td>\n",
       "      <td>27</td>\n",
       "      <td>685</td>\n",
       "      <td>NaN</td>\n",
       "      <td>United States of America</td>\n",
       "      <td>1,2,3,4,5,6,7,8,9,10,11,12,16,17</td>\n",
       "      <td>1</td>\n",
       "      <td>24</td>\n",
       "      <td>30</td>\n",
       "      <td>89</td>\n",
       "      <td>NaN</td>\n",
       "      <td>NaN</td>\n",
       "      <td>0</td>\n",
       "    </tr>\n",
       "    <tr>\n",
       "      <th>1</th>\n",
       "      <td>892044516</td>\n",
       "      <td>27</td>\n",
       "      <td>0</td>\n",
       "      <td>NaN</td>\n",
       "      <td>Germany</td>\n",
       "      <td>NaN</td>\n",
       "      <td>1</td>\n",
       "      <td>24</td>\n",
       "      <td>30</td>\n",
       "      <td>0</td>\n",
       "      <td>NaN</td>\n",
       "      <td>NaN</td>\n",
       "      <td>0</td>\n",
       "    </tr>\n",
       "    <tr>\n",
       "      <th>2</th>\n",
       "      <td>892185708</td>\n",
       "      <td>45</td>\n",
       "      <td>44</td>\n",
       "      <td>NaN</td>\n",
       "      <td>Israel</td>\n",
       "      <td>1,3,4,6,7,8,10,11,12,13,14,15,16,17,18,19,20,2...</td>\n",
       "      <td>1</td>\n",
       "      <td>42</td>\n",
       "      <td>48</td>\n",
       "      <td>68</td>\n",
       "      <td>NaN</td>\n",
       "      <td>NaN</td>\n",
       "      <td>0</td>\n",
       "    </tr>\n",
       "    <tr>\n",
       "      <th>3</th>\n",
       "      <td>892130292</td>\n",
       "      <td>32</td>\n",
       "      <td>0</td>\n",
       "      <td>NaN</td>\n",
       "      <td>United States of America</td>\n",
       "      <td>1,2,3,4,5,6,7,8,9,10,11,12</td>\n",
       "      <td>1</td>\n",
       "      <td>29</td>\n",
       "      <td>35</td>\n",
       "      <td>0</td>\n",
       "      <td>NaN</td>\n",
       "      <td>NaN</td>\n",
       "      <td>0</td>\n",
       "    </tr>\n",
       "    <tr>\n",
       "      <th>4</th>\n",
       "      <td>891406035</td>\n",
       "      <td>27</td>\n",
       "      <td>1000</td>\n",
       "      <td>NaN</td>\n",
       "      <td>France</td>\n",
       "      <td>NaN</td>\n",
       "      <td>1</td>\n",
       "      <td>24</td>\n",
       "      <td>30</td>\n",
       "      <td>1</td>\n",
       "      <td>1.0</td>\n",
       "      <td>NaN</td>\n",
       "      <td>0</td>\n",
       "    </tr>\n",
       "  </tbody>\n",
       "</table>\n",
       "</div>"
      ],
      "text/plain": [
       "         uid  age  attraction_coeff  coins                   country  \\\n",
       "0  892309896   27               685    NaN  United States of America   \n",
       "1  892044516   27                 0    NaN                   Germany   \n",
       "2  892185708   45                44    NaN                    Israel   \n",
       "3  892130292   32                 0    NaN  United States of America   \n",
       "4  891406035   27              1000    NaN                    France   \n",
       "\n",
       "                                          visit_days  gender  \\\n",
       "0                   1,2,3,4,5,6,7,8,9,10,11,12,16,17       1   \n",
       "1                                                NaN       1   \n",
       "2  1,3,4,6,7,8,10,11,12,13,14,15,16,17,18,19,20,2...       1   \n",
       "3                         1,2,3,4,5,6,7,8,9,10,11,12       1   \n",
       "4                                                NaN       1   \n",
       "\n",
       "   age_filter_start  age_filter_end  views_count  was_premium  is_premium  \\\n",
       "0                24              30           89          NaN         NaN   \n",
       "1                24              30            0          NaN         NaN   \n",
       "2                42              48           68          NaN         NaN   \n",
       "3                29              35            0          NaN         NaN   \n",
       "4                24              30            1          1.0         NaN   \n",
       "\n",
       "   total_revenue  \n",
       "0              0  \n",
       "1              0  \n",
       "2              0  \n",
       "3              0  \n",
       "4              0  "
      ]
     },
     "execution_count": 4,
     "metadata": {},
     "output_type": "execute_result"
    }
   ],
   "source": [
    "# Пользователи тестовой группы\n",
    "users_test.head()"
   ]
  },
  {
   "cell_type": "code",
   "execution_count": 5,
   "metadata": {
    "scrolled": true
   },
   "outputs": [
    {
     "name": "stdout",
     "output_type": "stream",
     "text": [
      "<class 'pandas.core.frame.DataFrame'>\n",
      "RangeIndex: 4308 entries, 0 to 4307\n",
      "Data columns (total 13 columns):\n",
      " #   Column            Non-Null Count  Dtype  \n",
      "---  ------            --------------  -----  \n",
      " 0   uid               4308 non-null   int64  \n",
      " 1   age               4308 non-null   int64  \n",
      " 2   attraction_coeff  4308 non-null   int64  \n",
      " 3   coins             49 non-null     float64\n",
      " 4   country           4308 non-null   object \n",
      " 5   visit_days        2978 non-null   object \n",
      " 6   gender            4308 non-null   int64  \n",
      " 7   age_filter_start  4308 non-null   int64  \n",
      " 8   age_filter_end    4308 non-null   int64  \n",
      " 9   views_count       4308 non-null   int64  \n",
      " 10  was_premium       408 non-null    float64\n",
      " 11  is_premium        157 non-null    float64\n",
      " 12  total_revenue     4308 non-null   int64  \n",
      "dtypes: float64(3), int64(8), object(2)\n",
      "memory usage: 437.7+ KB\n"
     ]
    }
   ],
   "source": [
    "users_test.info()"
   ]
  },
  {
   "cell_type": "markdown",
   "metadata": {},
   "source": [
    "Есть пропуски в колонках:\n",
    "- coins (у пользователя нет внутренней валюты, т.е. она равно 0)\n",
    "- visit_days (пользователь не посещал приложение после регистрации, т.е. 0 дней)\n",
    "- was_premium (у пользователя не было премиум подписки, т.е. 0, т.к. наличие подписки обозначается как 1)\n",
    "- is_premium (у пользователя на настоящий момент нет премиум подписки, т.е. 0)"
   ]
  },
  {
   "cell_type": "code",
   "execution_count": 6,
   "metadata": {},
   "outputs": [
    {
     "data": {
      "text/plain": [
       "array([1, 0])"
      ]
     },
     "execution_count": 6,
     "metadata": {},
     "output_type": "execute_result"
    }
   ],
   "source": [
    "# Обозначение гендера\n",
    "users_test.gender.unique()"
   ]
  },
  {
   "cell_type": "markdown",
   "metadata": {},
   "source": [
    "Можно предположить, что gender 1 - мужчина, 0 - женщина"
   ]
  },
  {
   "cell_type": "code",
   "execution_count": 7,
   "metadata": {},
   "outputs": [
    {
     "data": {
      "text/plain": [
       "4308"
      ]
     },
     "execution_count": 7,
     "metadata": {},
     "output_type": "execute_result"
    }
   ],
   "source": [
    "# Число уникальных пользователей\n",
    "users_test.uid.nunique()"
   ]
  },
  {
   "cell_type": "code",
   "execution_count": 8,
   "metadata": {},
   "outputs": [
    {
     "data": {
      "text/html": [
       "<div>\n",
       "<style scoped>\n",
       "    .dataframe tbody tr th:only-of-type {\n",
       "        vertical-align: middle;\n",
       "    }\n",
       "\n",
       "    .dataframe tbody tr th {\n",
       "        vertical-align: top;\n",
       "    }\n",
       "\n",
       "    .dataframe thead th {\n",
       "        text-align: right;\n",
       "    }\n",
       "</style>\n",
       "<table border=\"1\" class=\"dataframe\">\n",
       "  <thead>\n",
       "    <tr style=\"text-align: right;\">\n",
       "      <th></th>\n",
       "      <th>uid</th>\n",
       "      <th>age</th>\n",
       "      <th>attraction_coeff</th>\n",
       "      <th>coins</th>\n",
       "      <th>country</th>\n",
       "      <th>visit_days</th>\n",
       "      <th>gender</th>\n",
       "      <th>age_filter_start</th>\n",
       "      <th>age_filter_end</th>\n",
       "      <th>views_count</th>\n",
       "      <th>was_premium</th>\n",
       "      <th>is_premium</th>\n",
       "      <th>total_revenue</th>\n",
       "    </tr>\n",
       "  </thead>\n",
       "  <tbody>\n",
       "    <tr>\n",
       "      <th>0</th>\n",
       "      <td>892319115</td>\n",
       "      <td>25</td>\n",
       "      <td>435</td>\n",
       "      <td>NaN</td>\n",
       "      <td>United States of America</td>\n",
       "      <td>1,2,3,4,5,6</td>\n",
       "      <td>0</td>\n",
       "      <td>22</td>\n",
       "      <td>32</td>\n",
       "      <td>982</td>\n",
       "      <td>NaN</td>\n",
       "      <td>NaN</td>\n",
       "      <td>0</td>\n",
       "    </tr>\n",
       "    <tr>\n",
       "      <th>1</th>\n",
       "      <td>891248523</td>\n",
       "      <td>29</td>\n",
       "      <td>500</td>\n",
       "      <td>NaN</td>\n",
       "      <td>United States of America</td>\n",
       "      <td>1,2</td>\n",
       "      <td>1</td>\n",
       "      <td>26</td>\n",
       "      <td>32</td>\n",
       "      <td>12</td>\n",
       "      <td>NaN</td>\n",
       "      <td>NaN</td>\n",
       "      <td>0</td>\n",
       "    </tr>\n",
       "    <tr>\n",
       "      <th>2</th>\n",
       "      <td>891670932</td>\n",
       "      <td>33</td>\n",
       "      <td>800</td>\n",
       "      <td>NaN</td>\n",
       "      <td>France</td>\n",
       "      <td>1,2,3,5,6,8,9,11,13,16</td>\n",
       "      <td>1</td>\n",
       "      <td>30</td>\n",
       "      <td>36</td>\n",
       "      <td>5</td>\n",
       "      <td>NaN</td>\n",
       "      <td>NaN</td>\n",
       "      <td>0</td>\n",
       "    </tr>\n",
       "    <tr>\n",
       "      <th>3</th>\n",
       "      <td>891060786</td>\n",
       "      <td>26</td>\n",
       "      <td>0</td>\n",
       "      <td>NaN</td>\n",
       "      <td>Argentina</td>\n",
       "      <td>1,2,3,4,5</td>\n",
       "      <td>1</td>\n",
       "      <td>23</td>\n",
       "      <td>29</td>\n",
       "      <td>0</td>\n",
       "      <td>NaN</td>\n",
       "      <td>NaN</td>\n",
       "      <td>0</td>\n",
       "    </tr>\n",
       "    <tr>\n",
       "      <th>4</th>\n",
       "      <td>892006554</td>\n",
       "      <td>35</td>\n",
       "      <td>294</td>\n",
       "      <td>NaN</td>\n",
       "      <td>United States of America</td>\n",
       "      <td>1,2,3,5,6,7,8,9,10,12,15,16,17,19</td>\n",
       "      <td>1</td>\n",
       "      <td>30</td>\n",
       "      <td>40</td>\n",
       "      <td>17</td>\n",
       "      <td>NaN</td>\n",
       "      <td>NaN</td>\n",
       "      <td>0</td>\n",
       "    </tr>\n",
       "  </tbody>\n",
       "</table>\n",
       "</div>"
      ],
      "text/plain": [
       "         uid  age  attraction_coeff  coins                   country  \\\n",
       "0  892319115   25               435    NaN  United States of America   \n",
       "1  891248523   29               500    NaN  United States of America   \n",
       "2  891670932   33               800    NaN                    France   \n",
       "3  891060786   26                 0    NaN                 Argentina   \n",
       "4  892006554   35               294    NaN  United States of America   \n",
       "\n",
       "                          visit_days  gender  age_filter_start  \\\n",
       "0                        1,2,3,4,5,6       0                22   \n",
       "1                                1,2       1                26   \n",
       "2             1,2,3,5,6,8,9,11,13,16       1                30   \n",
       "3                          1,2,3,4,5       1                23   \n",
       "4  1,2,3,5,6,7,8,9,10,12,15,16,17,19       1                30   \n",
       "\n",
       "   age_filter_end  views_count  was_premium  is_premium  total_revenue  \n",
       "0              32          982          NaN         NaN              0  \n",
       "1              32           12          NaN         NaN              0  \n",
       "2              36            5          NaN         NaN              0  \n",
       "3              29            0          NaN         NaN              0  \n",
       "4              40           17          NaN         NaN              0  "
      ]
     },
     "execution_count": 8,
     "metadata": {},
     "output_type": "execute_result"
    }
   ],
   "source": [
    "# Пользователи 1 контрольной группы\n",
    "users_control_1.head()"
   ]
  },
  {
   "cell_type": "code",
   "execution_count": 9,
   "metadata": {},
   "outputs": [
    {
     "name": "stdout",
     "output_type": "stream",
     "text": [
      "<class 'pandas.core.frame.DataFrame'>\n",
      "RangeIndex: 4340 entries, 0 to 4339\n",
      "Data columns (total 13 columns):\n",
      " #   Column            Non-Null Count  Dtype  \n",
      "---  ------            --------------  -----  \n",
      " 0   uid               4340 non-null   int64  \n",
      " 1   age               4340 non-null   int64  \n",
      " 2   attraction_coeff  4340 non-null   int64  \n",
      " 3   coins             60 non-null     float64\n",
      " 4   country           4340 non-null   object \n",
      " 5   visit_days        3016 non-null   object \n",
      " 6   gender            4340 non-null   int64  \n",
      " 7   age_filter_start  4340 non-null   int64  \n",
      " 8   age_filter_end    4340 non-null   int64  \n",
      " 9   views_count       4340 non-null   int64  \n",
      " 10  was_premium       436 non-null    float64\n",
      " 11  is_premium        192 non-null    float64\n",
      " 12  total_revenue     4340 non-null   int64  \n",
      "dtypes: float64(3), int64(8), object(2)\n",
      "memory usage: 440.9+ KB\n"
     ]
    }
   ],
   "source": [
    "users_control_1.info()"
   ]
  },
  {
   "cell_type": "code",
   "execution_count": 10,
   "metadata": {},
   "outputs": [
    {
     "data": {
      "text/plain": [
       "4340"
      ]
     },
     "execution_count": 10,
     "metadata": {},
     "output_type": "execute_result"
    }
   ],
   "source": [
    "# Число уникальных пользователей\n",
    "users_control_1.uid.nunique()"
   ]
  },
  {
   "cell_type": "code",
   "execution_count": 11,
   "metadata": {},
   "outputs": [
    {
     "data": {
      "text/html": [
       "<div>\n",
       "<style scoped>\n",
       "    .dataframe tbody tr th:only-of-type {\n",
       "        vertical-align: middle;\n",
       "    }\n",
       "\n",
       "    .dataframe tbody tr th {\n",
       "        vertical-align: top;\n",
       "    }\n",
       "\n",
       "    .dataframe thead th {\n",
       "        text-align: right;\n",
       "    }\n",
       "</style>\n",
       "<table border=\"1\" class=\"dataframe\">\n",
       "  <thead>\n",
       "    <tr style=\"text-align: right;\">\n",
       "      <th></th>\n",
       "      <th>uid</th>\n",
       "      <th>age</th>\n",
       "      <th>attraction_coeff</th>\n",
       "      <th>coins</th>\n",
       "      <th>country</th>\n",
       "      <th>visit_days</th>\n",
       "      <th>gender</th>\n",
       "      <th>age_filter_start</th>\n",
       "      <th>age_filter_end</th>\n",
       "      <th>views_count</th>\n",
       "      <th>was_premium</th>\n",
       "      <th>is_premium</th>\n",
       "      <th>total_revenue</th>\n",
       "    </tr>\n",
       "  </thead>\n",
       "  <tbody>\n",
       "    <tr>\n",
       "      <th>0</th>\n",
       "      <td>892035504</td>\n",
       "      <td>37</td>\n",
       "      <td>137</td>\n",
       "      <td>NaN</td>\n",
       "      <td>Israel</td>\n",
       "      <td>1,2,3,4,5,6,7,8,9,11,13</td>\n",
       "      <td>1</td>\n",
       "      <td>30</td>\n",
       "      <td>40</td>\n",
       "      <td>51</td>\n",
       "      <td>NaN</td>\n",
       "      <td>NaN</td>\n",
       "      <td>0</td>\n",
       "    </tr>\n",
       "    <tr>\n",
       "      <th>1</th>\n",
       "      <td>891782112</td>\n",
       "      <td>57</td>\n",
       "      <td>0</td>\n",
       "      <td>NaN</td>\n",
       "      <td>Italy</td>\n",
       "      <td>1</td>\n",
       "      <td>1</td>\n",
       "      <td>54</td>\n",
       "      <td>60</td>\n",
       "      <td>0</td>\n",
       "      <td>NaN</td>\n",
       "      <td>NaN</td>\n",
       "      <td>0</td>\n",
       "    </tr>\n",
       "    <tr>\n",
       "      <th>2</th>\n",
       "      <td>891110337</td>\n",
       "      <td>30</td>\n",
       "      <td>769</td>\n",
       "      <td>NaN</td>\n",
       "      <td>France</td>\n",
       "      <td>1,2,3,4,5</td>\n",
       "      <td>1</td>\n",
       "      <td>27</td>\n",
       "      <td>33</td>\n",
       "      <td>13</td>\n",
       "      <td>NaN</td>\n",
       "      <td>NaN</td>\n",
       "      <td>0</td>\n",
       "    </tr>\n",
       "    <tr>\n",
       "      <th>3</th>\n",
       "      <td>891796320</td>\n",
       "      <td>48</td>\n",
       "      <td>750</td>\n",
       "      <td>NaN</td>\n",
       "      <td>France</td>\n",
       "      <td>1,4,6,8,10,11,12,14,15,16,18</td>\n",
       "      <td>1</td>\n",
       "      <td>45</td>\n",
       "      <td>51</td>\n",
       "      <td>12</td>\n",
       "      <td>NaN</td>\n",
       "      <td>NaN</td>\n",
       "      <td>0</td>\n",
       "    </tr>\n",
       "    <tr>\n",
       "      <th>4</th>\n",
       "      <td>891880212</td>\n",
       "      <td>54</td>\n",
       "      <td>638</td>\n",
       "      <td>NaN</td>\n",
       "      <td>United States of America</td>\n",
       "      <td>1</td>\n",
       "      <td>1</td>\n",
       "      <td>35</td>\n",
       "      <td>53</td>\n",
       "      <td>94</td>\n",
       "      <td>NaN</td>\n",
       "      <td>NaN</td>\n",
       "      <td>0</td>\n",
       "    </tr>\n",
       "  </tbody>\n",
       "</table>\n",
       "</div>"
      ],
      "text/plain": [
       "         uid  age  attraction_coeff  coins                   country  \\\n",
       "0  892035504   37               137    NaN                    Israel   \n",
       "1  891782112   57                 0    NaN                     Italy   \n",
       "2  891110337   30               769    NaN                    France   \n",
       "3  891796320   48               750    NaN                    France   \n",
       "4  891880212   54               638    NaN  United States of America   \n",
       "\n",
       "                     visit_days  gender  age_filter_start  age_filter_end  \\\n",
       "0       1,2,3,4,5,6,7,8,9,11,13       1                30              40   \n",
       "1                             1       1                54              60   \n",
       "2                     1,2,3,4,5       1                27              33   \n",
       "3  1,4,6,8,10,11,12,14,15,16,18       1                45              51   \n",
       "4                             1       1                35              53   \n",
       "\n",
       "   views_count  was_premium  is_premium  total_revenue  \n",
       "0           51          NaN         NaN              0  \n",
       "1            0          NaN         NaN              0  \n",
       "2           13          NaN         NaN              0  \n",
       "3           12          NaN         NaN              0  \n",
       "4           94          NaN         NaN              0  "
      ]
     },
     "execution_count": 11,
     "metadata": {},
     "output_type": "execute_result"
    }
   ],
   "source": [
    "# Пользователи 2 контрольной группы\n",
    "users_control_2.head()"
   ]
  },
  {
   "cell_type": "code",
   "execution_count": 12,
   "metadata": {},
   "outputs": [
    {
     "name": "stdout",
     "output_type": "stream",
     "text": [
      "<class 'pandas.core.frame.DataFrame'>\n",
      "RangeIndex: 4264 entries, 0 to 4263\n",
      "Data columns (total 13 columns):\n",
      " #   Column            Non-Null Count  Dtype  \n",
      "---  ------            --------------  -----  \n",
      " 0   uid               4264 non-null   int64  \n",
      " 1   age               4264 non-null   int64  \n",
      " 2   attraction_coeff  4264 non-null   int64  \n",
      " 3   coins             61 non-null     float64\n",
      " 4   country           4264 non-null   object \n",
      " 5   visit_days        2900 non-null   object \n",
      " 6   gender            4264 non-null   int64  \n",
      " 7   age_filter_start  4264 non-null   int64  \n",
      " 8   age_filter_end    4264 non-null   int64  \n",
      " 9   views_count       4264 non-null   int64  \n",
      " 10  was_premium       411 non-null    float64\n",
      " 11  is_premium        191 non-null    float64\n",
      " 12  total_revenue     4264 non-null   int64  \n",
      "dtypes: float64(3), int64(8), object(2)\n",
      "memory usage: 433.2+ KB\n"
     ]
    }
   ],
   "source": [
    "users_control_2.info()"
   ]
  },
  {
   "cell_type": "code",
   "execution_count": 13,
   "metadata": {},
   "outputs": [
    {
     "data": {
      "text/plain": [
       "4264"
      ]
     },
     "execution_count": 13,
     "metadata": {},
     "output_type": "execute_result"
    }
   ],
   "source": [
    "# Число уникальных пользователей\n",
    "users_control_2.uid.nunique()"
   ]
  },
  {
   "cell_type": "markdown",
   "metadata": {},
   "source": [
    "Проверим, уникальны ли пользователи в каждой группе, нет ли одних и тех же юзеров в разных выборках:"
   ]
  },
  {
   "cell_type": "code",
   "execution_count": 14,
   "metadata": {
    "scrolled": true
   },
   "outputs": [
    {
     "data": {
      "text/plain": [
       "0"
      ]
     },
     "execution_count": 14,
     "metadata": {},
     "output_type": "execute_result"
    }
   ],
   "source": [
    "users_test.query('uid in @users_control_1.uid').shape[0]"
   ]
  },
  {
   "cell_type": "code",
   "execution_count": 15,
   "metadata": {},
   "outputs": [
    {
     "data": {
      "text/plain": [
       "0"
      ]
     },
     "execution_count": 15,
     "metadata": {},
     "output_type": "execute_result"
    }
   ],
   "source": [
    "users_test.query('uid in @users_control_2.uid').shape[0]"
   ]
  },
  {
   "cell_type": "code",
   "execution_count": 16,
   "metadata": {
    "scrolled": true
   },
   "outputs": [
    {
     "data": {
      "text/plain": [
       "0"
      ]
     },
     "execution_count": 16,
     "metadata": {},
     "output_type": "execute_result"
    }
   ],
   "source": [
    "users_control_1.query('uid in @users_control_2.uid').shape[0]"
   ]
  },
  {
   "cell_type": "markdown",
   "metadata": {},
   "source": [
    "Во всех df строки с уникальными пользователями. Но можем дополнительно проверить df на дубликаты:"
   ]
  },
  {
   "cell_type": "code",
   "execution_count": 17,
   "metadata": {},
   "outputs": [
    {
     "data": {
      "text/plain": [
       "0"
      ]
     },
     "execution_count": 17,
     "metadata": {},
     "output_type": "execute_result"
    }
   ],
   "source": [
    "users_test.duplicated().sum()"
   ]
  },
  {
   "cell_type": "code",
   "execution_count": 18,
   "metadata": {},
   "outputs": [
    {
     "data": {
      "text/plain": [
       "0"
      ]
     },
     "execution_count": 18,
     "metadata": {},
     "output_type": "execute_result"
    }
   ],
   "source": [
    "users_control_1.duplicated().sum()"
   ]
  },
  {
   "cell_type": "code",
   "execution_count": 19,
   "metadata": {},
   "outputs": [
    {
     "data": {
      "text/plain": [
       "0"
      ]
     },
     "execution_count": 19,
     "metadata": {},
     "output_type": "execute_result"
    }
   ],
   "source": [
    "users_control_2.duplicated().sum()"
   ]
  },
  {
   "cell_type": "markdown",
   "metadata": {},
   "source": [
    "В контрольных группах пропуски в тех же колонках, что и в тестовой, все их можно заменить на нули, смысл от этого не изменится:"
   ]
  },
  {
   "cell_type": "code",
   "execution_count": 20,
   "metadata": {},
   "outputs": [],
   "source": [
    "users_test      = users_test.fillna(0)\n",
    "users_control_1 = users_control_1.fillna(0)\n",
    "users_control_2 = users_control_2.fillna(0)"
   ]
  },
  {
   "cell_type": "markdown",
   "metadata": {},
   "source": [
    "**Изучим датасеты с платежами пользователей**"
   ]
  },
  {
   "cell_type": "code",
   "execution_count": 21,
   "metadata": {
    "scrolled": true
   },
   "outputs": [
    {
     "data": {
      "text/html": [
       "<div>\n",
       "<style scoped>\n",
       "    .dataframe tbody tr th:only-of-type {\n",
       "        vertical-align: middle;\n",
       "    }\n",
       "\n",
       "    .dataframe tbody tr th {\n",
       "        vertical-align: top;\n",
       "    }\n",
       "\n",
       "    .dataframe thead th {\n",
       "        text-align: right;\n",
       "    }\n",
       "</style>\n",
       "<table border=\"1\" class=\"dataframe\">\n",
       "  <thead>\n",
       "    <tr style=\"text-align: right;\">\n",
       "      <th></th>\n",
       "      <th>uid</th>\n",
       "      <th>country</th>\n",
       "      <th>joined_at</th>\n",
       "      <th>paid_at</th>\n",
       "      <th>revenue</th>\n",
       "      <th>payment_id</th>\n",
       "      <th>from_page</th>\n",
       "      <th>product_type</th>\n",
       "    </tr>\n",
       "  </thead>\n",
       "  <tbody>\n",
       "    <tr>\n",
       "      <th>0</th>\n",
       "      <td>891345942</td>\n",
       "      <td>Italy</td>\n",
       "      <td>2017-05-11 13:00:00</td>\n",
       "      <td>2017-11-13 15:04:00</td>\n",
       "      <td>12909</td>\n",
       "      <td>147</td>\n",
       "      <td>trial_vip_popup</td>\n",
       "      <td>trial_premium</td>\n",
       "    </tr>\n",
       "    <tr>\n",
       "      <th>1</th>\n",
       "      <td>892054251</td>\n",
       "      <td>United States of America</td>\n",
       "      <td>2017-10-22 00:33:00</td>\n",
       "      <td>2017-10-30 01:37:00</td>\n",
       "      <td>13923</td>\n",
       "      <td>147</td>\n",
       "      <td>trial_vip_popup</td>\n",
       "      <td>trial_premium</td>\n",
       "    </tr>\n",
       "    <tr>\n",
       "      <th>2</th>\n",
       "      <td>892236423</td>\n",
       "      <td>United States of America</td>\n",
       "      <td>2017-10-18 01:09:00</td>\n",
       "      <td>2017-10-23 00:15:00</td>\n",
       "      <td>3783</td>\n",
       "      <td>67</td>\n",
       "      <td>menu</td>\n",
       "      <td>other_type</td>\n",
       "    </tr>\n",
       "    <tr>\n",
       "      <th>3</th>\n",
       "      <td>892236423</td>\n",
       "      <td>United States of America</td>\n",
       "      <td>2017-10-18 01:09:00</td>\n",
       "      <td>2017-10-27 22:38:00</td>\n",
       "      <td>3783</td>\n",
       "      <td>67</td>\n",
       "      <td>menu</td>\n",
       "      <td>other_type</td>\n",
       "    </tr>\n",
       "    <tr>\n",
       "      <th>4</th>\n",
       "      <td>892168170</td>\n",
       "      <td>United States of America</td>\n",
       "      <td>2017-10-19 17:10:00</td>\n",
       "      <td>2017-10-27 19:10:00</td>\n",
       "      <td>9087</td>\n",
       "      <td>147</td>\n",
       "      <td>trial_vip_popup</td>\n",
       "      <td>trial_premium</td>\n",
       "    </tr>\n",
       "  </tbody>\n",
       "</table>\n",
       "</div>"
      ],
      "text/plain": [
       "         uid                   country            joined_at  \\\n",
       "0  891345942                     Italy  2017-05-11 13:00:00   \n",
       "1  892054251  United States of America  2017-10-22 00:33:00   \n",
       "2  892236423  United States of America  2017-10-18 01:09:00   \n",
       "3  892236423  United States of America  2017-10-18 01:09:00   \n",
       "4  892168170  United States of America  2017-10-19 17:10:00   \n",
       "\n",
       "               paid_at  revenue  payment_id        from_page   product_type  \n",
       "0  2017-11-13 15:04:00    12909         147  trial_vip_popup  trial_premium  \n",
       "1  2017-10-30 01:37:00    13923         147  trial_vip_popup  trial_premium  \n",
       "2  2017-10-23 00:15:00     3783          67             menu     other_type  \n",
       "3  2017-10-27 22:38:00     3783          67             menu     other_type  \n",
       "4  2017-10-27 19:10:00     9087         147  trial_vip_popup  trial_premium  "
      ]
     },
     "execution_count": 21,
     "metadata": {},
     "output_type": "execute_result"
    }
   ],
   "source": [
    "# Платежи пользователей в тестовой группе\n",
    "transactions_test.head()"
   ]
  },
  {
   "cell_type": "code",
   "execution_count": 22,
   "metadata": {},
   "outputs": [
    {
     "name": "stdout",
     "output_type": "stream",
     "text": [
      "<class 'pandas.core.frame.DataFrame'>\n",
      "RangeIndex: 273 entries, 0 to 272\n",
      "Data columns (total 8 columns):\n",
      " #   Column        Non-Null Count  Dtype \n",
      "---  ------        --------------  ----- \n",
      " 0   uid           273 non-null    int64 \n",
      " 1   country       273 non-null    object\n",
      " 2   joined_at     273 non-null    object\n",
      " 3   paid_at       273 non-null    object\n",
      " 4   revenue       273 non-null    int64 \n",
      " 5   payment_id    273 non-null    int64 \n",
      " 6   from_page     273 non-null    object\n",
      " 7   product_type  273 non-null    object\n",
      "dtypes: int64(3), object(5)\n",
      "memory usage: 17.2+ KB\n"
     ]
    }
   ],
   "source": [
    "transactions_test.info()"
   ]
  },
  {
   "cell_type": "code",
   "execution_count": 23,
   "metadata": {},
   "outputs": [
    {
     "data": {
      "text/plain": [
       "146"
      ]
     },
     "execution_count": 23,
     "metadata": {},
     "output_type": "execute_result"
    }
   ],
   "source": [
    "# Число уникальных uid в тестовой группе\n",
    "transactions_test.uid.nunique()"
   ]
  },
  {
   "cell_type": "code",
   "execution_count": 24,
   "metadata": {},
   "outputs": [
    {
     "data": {
      "text/html": [
       "<div>\n",
       "<style scoped>\n",
       "    .dataframe tbody tr th:only-of-type {\n",
       "        vertical-align: middle;\n",
       "    }\n",
       "\n",
       "    .dataframe tbody tr th {\n",
       "        vertical-align: top;\n",
       "    }\n",
       "\n",
       "    .dataframe thead th {\n",
       "        text-align: right;\n",
       "    }\n",
       "</style>\n",
       "<table border=\"1\" class=\"dataframe\">\n",
       "  <thead>\n",
       "    <tr style=\"text-align: right;\">\n",
       "      <th></th>\n",
       "      <th>uid</th>\n",
       "      <th>country</th>\n",
       "      <th>joined_at</th>\n",
       "      <th>paid_at</th>\n",
       "      <th>revenue</th>\n",
       "      <th>payment_id</th>\n",
       "      <th>from_page</th>\n",
       "      <th>product_type</th>\n",
       "    </tr>\n",
       "  </thead>\n",
       "  <tbody>\n",
       "    <tr>\n",
       "      <th>0</th>\n",
       "      <td>891319275.0</td>\n",
       "      <td>France</td>\n",
       "      <td>2017-05-11 19:57:00</td>\n",
       "      <td>2017-12-11 21:57:00</td>\n",
       "      <td>12727.0</td>\n",
       "      <td>147.0</td>\n",
       "      <td>trial_vip_popup</td>\n",
       "      <td>trial_premium</td>\n",
       "    </tr>\n",
       "    <tr>\n",
       "      <th>1</th>\n",
       "      <td>892421826.0</td>\n",
       "      <td>Israel</td>\n",
       "      <td>2017-10-14 12:46:00</td>\n",
       "      <td>2017-10-23 12:54:00</td>\n",
       "      <td>14586.0</td>\n",
       "      <td>147.0</td>\n",
       "      <td>trial_vip_popup</td>\n",
       "      <td>trial_premium</td>\n",
       "    </tr>\n",
       "    <tr>\n",
       "      <th>2</th>\n",
       "      <td>891822480.0</td>\n",
       "      <td>Italy</td>\n",
       "      <td>2017-10-26 22:27:00</td>\n",
       "      <td>2017-12-11 20:59:00</td>\n",
       "      <td>1911.0</td>\n",
       "      <td>19.0</td>\n",
       "      <td>none</td>\n",
       "      <td>coins</td>\n",
       "    </tr>\n",
       "    <tr>\n",
       "      <th>3</th>\n",
       "      <td>891367521.0</td>\n",
       "      <td>Italy</td>\n",
       "      <td>2017-05-11 02:37:00</td>\n",
       "      <td>2017-06-11 19:15:00</td>\n",
       "      <td>1456.0</td>\n",
       "      <td>127.0</td>\n",
       "      <td>sympathy</td>\n",
       "      <td>other_type</td>\n",
       "    </tr>\n",
       "    <tr>\n",
       "      <th>4</th>\n",
       "      <td>892207959.0</td>\n",
       "      <td>France</td>\n",
       "      <td>2017-10-18 18:30:00</td>\n",
       "      <td>2017-12-11 12:03:00</td>\n",
       "      <td>1261.0</td>\n",
       "      <td>19.0</td>\n",
       "      <td>empty_likes</td>\n",
       "      <td>coins</td>\n",
       "    </tr>\n",
       "  </tbody>\n",
       "</table>\n",
       "</div>"
      ],
      "text/plain": [
       "           uid country            joined_at              paid_at  revenue  \\\n",
       "0  891319275.0  France  2017-05-11 19:57:00  2017-12-11 21:57:00  12727.0   \n",
       "1  892421826.0  Israel  2017-10-14 12:46:00  2017-10-23 12:54:00  14586.0   \n",
       "2  891822480.0   Italy  2017-10-26 22:27:00  2017-12-11 20:59:00   1911.0   \n",
       "3  891367521.0   Italy  2017-05-11 02:37:00  2017-06-11 19:15:00   1456.0   \n",
       "4  892207959.0  France  2017-10-18 18:30:00  2017-12-11 12:03:00   1261.0   \n",
       "\n",
       "   payment_id        from_page   product_type  \n",
       "0       147.0  trial_vip_popup  trial_premium  \n",
       "1       147.0  trial_vip_popup  trial_premium  \n",
       "2        19.0             none          coins  \n",
       "3       127.0         sympathy     other_type  \n",
       "4        19.0      empty_likes          coins  "
      ]
     },
     "execution_count": 24,
     "metadata": {},
     "output_type": "execute_result"
    }
   ],
   "source": [
    "# Платежи пользователей в 1 контрольной группе\n",
    "transactions_control_1.head()"
   ]
  },
  {
   "cell_type": "code",
   "execution_count": 25,
   "metadata": {},
   "outputs": [
    {
     "name": "stdout",
     "output_type": "stream",
     "text": [
      "<class 'pandas.core.frame.DataFrame'>\n",
      "RangeIndex: 1007 entries, 0 to 1006\n",
      "Data columns (total 8 columns):\n",
      " #   Column        Non-Null Count  Dtype  \n",
      "---  ------        --------------  -----  \n",
      " 0   uid           377 non-null    float64\n",
      " 1   country       377 non-null    object \n",
      " 2   joined_at     1007 non-null   object \n",
      " 3   paid_at       1007 non-null   object \n",
      " 4   revenue       377 non-null    float64\n",
      " 5   payment_id    377 non-null    float64\n",
      " 6   from_page     377 non-null    object \n",
      " 7   product_type  377 non-null    object \n",
      "dtypes: float64(3), object(5)\n",
      "memory usage: 63.1+ KB\n"
     ]
    }
   ],
   "source": [
    "transactions_control_1.info()"
   ]
  },
  {
   "cell_type": "code",
   "execution_count": 26,
   "metadata": {},
   "outputs": [
    {
     "data": {
      "text/plain": [
       "193"
      ]
     },
     "execution_count": 26,
     "metadata": {},
     "output_type": "execute_result"
    }
   ],
   "source": [
    "# Число уникальных uid в 1 контрольной группе\n",
    "transactions_control_1.uid.nunique()"
   ]
  },
  {
   "cell_type": "code",
   "execution_count": 27,
   "metadata": {},
   "outputs": [
    {
     "data": {
      "text/html": [
       "<div>\n",
       "<style scoped>\n",
       "    .dataframe tbody tr th:only-of-type {\n",
       "        vertical-align: middle;\n",
       "    }\n",
       "\n",
       "    .dataframe tbody tr th {\n",
       "        vertical-align: top;\n",
       "    }\n",
       "\n",
       "    .dataframe thead th {\n",
       "        text-align: right;\n",
       "    }\n",
       "</style>\n",
       "<table border=\"1\" class=\"dataframe\">\n",
       "  <thead>\n",
       "    <tr style=\"text-align: right;\">\n",
       "      <th></th>\n",
       "      <th>uid</th>\n",
       "      <th>country</th>\n",
       "      <th>joined_at</th>\n",
       "      <th>paid_at</th>\n",
       "      <th>revenue</th>\n",
       "      <th>payment_id</th>\n",
       "      <th>from_page</th>\n",
       "      <th>product_type</th>\n",
       "    </tr>\n",
       "  </thead>\n",
       "  <tbody>\n",
       "    <tr>\n",
       "      <th>0</th>\n",
       "      <td>891266616</td>\n",
       "      <td>Argentina</td>\n",
       "      <td>2017-06-11 15:25:00</td>\n",
       "      <td>2017-10-11 17:35:00</td>\n",
       "      <td>6305</td>\n",
       "      <td>19</td>\n",
       "      <td>autorefill</td>\n",
       "      <td>coins</td>\n",
       "    </tr>\n",
       "    <tr>\n",
       "      <th>1</th>\n",
       "      <td>892186737</td>\n",
       "      <td>Chile</td>\n",
       "      <td>2017-10-19 06:03:00</td>\n",
       "      <td>2017-04-11 08:53:00</td>\n",
       "      <td>4732</td>\n",
       "      <td>147</td>\n",
       "      <td>promo_09</td>\n",
       "      <td>premium_no_trial</td>\n",
       "    </tr>\n",
       "    <tr>\n",
       "      <th>2</th>\n",
       "      <td>891959004</td>\n",
       "      <td>United States of America</td>\n",
       "      <td>2017-10-24 00:12:00</td>\n",
       "      <td>2017-10-31 02:12:00</td>\n",
       "      <td>10153</td>\n",
       "      <td>147</td>\n",
       "      <td>trial_vip_popup</td>\n",
       "      <td>trial_premium</td>\n",
       "    </tr>\n",
       "    <tr>\n",
       "      <th>3</th>\n",
       "      <td>892115478</td>\n",
       "      <td>Spain</td>\n",
       "      <td>2017-10-20 20:39:00</td>\n",
       "      <td>2017-10-26 06:26:00</td>\n",
       "      <td>2366</td>\n",
       "      <td>67</td>\n",
       "      <td>empty_likes</td>\n",
       "      <td>other_type</td>\n",
       "    </tr>\n",
       "    <tr>\n",
       "      <th>4</th>\n",
       "      <td>891592941</td>\n",
       "      <td>Switzerland</td>\n",
       "      <td>2017-10-31 12:40:00</td>\n",
       "      <td>2017-03-11 16:25:00</td>\n",
       "      <td>6292</td>\n",
       "      <td>147</td>\n",
       "      <td>promo_09</td>\n",
       "      <td>premium_no_trial</td>\n",
       "    </tr>\n",
       "  </tbody>\n",
       "</table>\n",
       "</div>"
      ],
      "text/plain": [
       "         uid                   country            joined_at  \\\n",
       "0  891266616                 Argentina  2017-06-11 15:25:00   \n",
       "1  892186737                     Chile  2017-10-19 06:03:00   \n",
       "2  891959004  United States of America  2017-10-24 00:12:00   \n",
       "3  892115478                     Spain  2017-10-20 20:39:00   \n",
       "4  891592941               Switzerland  2017-10-31 12:40:00   \n",
       "\n",
       "               paid_at  revenue  payment_id        from_page      product_type  \n",
       "0  2017-10-11 17:35:00     6305          19       autorefill             coins  \n",
       "1  2017-04-11 08:53:00     4732         147         promo_09  premium_no_trial  \n",
       "2  2017-10-31 02:12:00    10153         147  trial_vip_popup     trial_premium  \n",
       "3  2017-10-26 06:26:00     2366          67      empty_likes        other_type  \n",
       "4  2017-03-11 16:25:00     6292         147         promo_09  premium_no_trial  "
      ]
     },
     "execution_count": 27,
     "metadata": {},
     "output_type": "execute_result"
    }
   ],
   "source": [
    "# Платежи пользователей в 2 контрольной группе\n",
    "transactions_control_2.head()"
   ]
  },
  {
   "cell_type": "code",
   "execution_count": 28,
   "metadata": {
    "scrolled": true
   },
   "outputs": [
    {
     "name": "stdout",
     "output_type": "stream",
     "text": [
      "<class 'pandas.core.frame.DataFrame'>\n",
      "RangeIndex: 328 entries, 0 to 327\n",
      "Data columns (total 8 columns):\n",
      " #   Column        Non-Null Count  Dtype \n",
      "---  ------        --------------  ----- \n",
      " 0   uid           328 non-null    int64 \n",
      " 1   country       328 non-null    object\n",
      " 2   joined_at     328 non-null    object\n",
      " 3   paid_at       328 non-null    object\n",
      " 4   revenue       328 non-null    int64 \n",
      " 5   payment_id    328 non-null    int64 \n",
      " 6   from_page     328 non-null    object\n",
      " 7   product_type  328 non-null    object\n",
      "dtypes: int64(3), object(5)\n",
      "memory usage: 20.6+ KB\n"
     ]
    }
   ],
   "source": [
    "transactions_control_2.info()"
   ]
  },
  {
   "cell_type": "code",
   "execution_count": 29,
   "metadata": {},
   "outputs": [
    {
     "data": {
      "text/plain": [
       "187"
      ]
     },
     "execution_count": 29,
     "metadata": {},
     "output_type": "execute_result"
    }
   ],
   "source": [
    "# Число уникальных uid во 2 контрольной группе\n",
    "transactions_control_2.uid.nunique()"
   ]
  },
  {
   "cell_type": "markdown",
   "metadata": {},
   "source": [
    "Проверим уникальность юзеров в датасетах с транзакциями:"
   ]
  },
  {
   "cell_type": "code",
   "execution_count": 30,
   "metadata": {},
   "outputs": [
    {
     "data": {
      "text/plain": [
       "0"
      ]
     },
     "execution_count": 30,
     "metadata": {},
     "output_type": "execute_result"
    }
   ],
   "source": [
    "transactions_test.query('uid in @transactions_control_1.uid').shape[0]"
   ]
  },
  {
   "cell_type": "code",
   "execution_count": 31,
   "metadata": {},
   "outputs": [
    {
     "data": {
      "text/plain": [
       "0"
      ]
     },
     "execution_count": 31,
     "metadata": {},
     "output_type": "execute_result"
    }
   ],
   "source": [
    "transactions_test.query('uid in @transactions_control_2.uid').shape[0]"
   ]
  },
  {
   "cell_type": "code",
   "execution_count": 32,
   "metadata": {},
   "outputs": [
    {
     "data": {
      "text/plain": [
       "0"
      ]
     },
     "execution_count": 32,
     "metadata": {},
     "output_type": "execute_result"
    }
   ],
   "source": [
    "transactions_control_2.query('uid in @transactions_control_1.uid').shape[0]"
   ]
  },
  {
   "cell_type": "markdown",
   "metadata": {},
   "source": [
    "Проверим данные на дубликаты и удалим их при наличии:"
   ]
  },
  {
   "cell_type": "code",
   "execution_count": 33,
   "metadata": {},
   "outputs": [
    {
     "data": {
      "text/plain": [
       "7"
      ]
     },
     "execution_count": 33,
     "metadata": {},
     "output_type": "execute_result"
    }
   ],
   "source": [
    "transactions_test.duplicated().sum()"
   ]
  },
  {
   "cell_type": "code",
   "execution_count": 34,
   "metadata": {},
   "outputs": [
    {
     "data": {
      "text/plain": [
       "650"
      ]
     },
     "execution_count": 34,
     "metadata": {},
     "output_type": "execute_result"
    }
   ],
   "source": [
    "transactions_control_1.duplicated().sum()"
   ]
  },
  {
   "cell_type": "code",
   "execution_count": 35,
   "metadata": {},
   "outputs": [
    {
     "data": {
      "text/plain": [
       "5"
      ]
     },
     "execution_count": 35,
     "metadata": {},
     "output_type": "execute_result"
    }
   ],
   "source": [
    "transactions_control_2.duplicated().sum()"
   ]
  },
  {
   "cell_type": "code",
   "execution_count": 36,
   "metadata": {},
   "outputs": [],
   "source": [
    "transactions_test      = transactions_test.drop_duplicates()\n",
    "transactions_control_1 = transactions_control_1.drop_duplicates()\n",
    "transactions_control_2 = transactions_control_2.drop_duplicates()"
   ]
  },
  {
   "cell_type": "markdown",
   "metadata": {},
   "source": [
    "В тестовой группе и 2 контрольной группе нет пропусков.\n",
    "В 1 контрольной группе странная ситуация - количество строк значительно больше, чем в предыдущих датафреймах, но также много пропусков во всех колонках кроме joined_at и paid_at, предполагаем, что это сбой в системе и удаляем эти строки:"
   ]
  },
  {
   "cell_type": "code",
   "execution_count": 37,
   "metadata": {},
   "outputs": [],
   "source": [
    "transactions_control_1 = transactions_control_1.dropna()"
   ]
  },
  {
   "cell_type": "code",
   "execution_count": 38,
   "metadata": {},
   "outputs": [],
   "source": [
    "# Заменим в df transactions_control_1 тип данных на int у колонок с id для унификации\n",
    "transactions_control_1[['uid', 'payment_id']] = transactions_control_1[['uid', 'payment_id']].astype(int)"
   ]
  },
  {
   "cell_type": "code",
   "execution_count": 39,
   "metadata": {},
   "outputs": [],
   "source": [
    "# Исправим некорректный для дат тип данных в df по платежам\n",
    "transactions_test[['joined_at', 'paid_at']]      = transactions_test[['joined_at', 'paid_at']].apply(pd.to_datetime)\n",
    "transactions_control_1[['joined_at', 'paid_at']] = transactions_control_1[['joined_at', 'paid_at']].apply(pd.to_datetime)\n",
    "transactions_control_2[['joined_at', 'paid_at']] = transactions_control_2[['joined_at', 'paid_at']].apply(pd.to_datetime)"
   ]
  },
  {
   "cell_type": "markdown",
   "metadata": {},
   "source": [
    "**Отберем нужных нам пользователей (новых, из определенных стран и с определенными платежными системами оплаты)**\n",
    "\n",
    "Новых пользователей найдем по датам регистрации, нужно чтобы они сходились во всех группах:"
   ]
  },
  {
   "cell_type": "code",
   "execution_count": 40,
   "metadata": {},
   "outputs": [
    {
     "data": {
      "text/plain": [
       "(Timestamp('2017-01-11 03:07:00'), Timestamp('2017-10-31 23:40:00'))"
      ]
     },
     "execution_count": 40,
     "metadata": {},
     "output_type": "execute_result"
    }
   ],
   "source": [
    "# Период проведения эксперимента в тестовой группе\n",
    "transactions_test.joined_at.min(), transactions_test.joined_at.max()"
   ]
  },
  {
   "cell_type": "code",
   "execution_count": 41,
   "metadata": {},
   "outputs": [
    {
     "data": {
      "text/plain": [
       "(Timestamp('2015-01-19 11:49:00'), Timestamp('2017-10-31 22:17:00'))"
      ]
     },
     "execution_count": 41,
     "metadata": {},
     "output_type": "execute_result"
    }
   ],
   "source": [
    "# Период проведения эксперимента в 1 контрольной группе\n",
    "transactions_control_1.joined_at.min(), transactions_control_1.joined_at.max()"
   ]
  },
  {
   "cell_type": "code",
   "execution_count": 42,
   "metadata": {},
   "outputs": [
    {
     "data": {
      "text/plain": [
       "(Timestamp('2017-01-11 08:36:00'), Timestamp('2017-10-31 17:43:00'))"
      ]
     },
     "execution_count": 42,
     "metadata": {},
     "output_type": "execute_result"
    }
   ],
   "source": [
    "# Период проведения эксперимента во 2 контрольной группе\n",
    "transactions_control_2.joined_at.min(), transactions_control_2.joined_at.max()"
   ]
  },
  {
   "cell_type": "markdown",
   "metadata": {},
   "source": [
    "Окончание эксперимента плюс минус совпадает у всех групп (не будем сверять всех по времени, даты достаточно).\n",
    "\n",
    "А вот минимальная дата в 1 контрольной группе не совпадает с минимальными датами в других группах, отфильтруем лишнее:"
   ]
  },
  {
   "cell_type": "code",
   "execution_count": 43,
   "metadata": {},
   "outputs": [
    {
     "data": {
      "text/html": [
       "<div>\n",
       "<style scoped>\n",
       "    .dataframe tbody tr th:only-of-type {\n",
       "        vertical-align: middle;\n",
       "    }\n",
       "\n",
       "    .dataframe tbody tr th {\n",
       "        vertical-align: top;\n",
       "    }\n",
       "\n",
       "    .dataframe thead th {\n",
       "        text-align: right;\n",
       "    }\n",
       "</style>\n",
       "<table border=\"1\" class=\"dataframe\">\n",
       "  <thead>\n",
       "    <tr style=\"text-align: right;\">\n",
       "      <th></th>\n",
       "      <th>uid</th>\n",
       "      <th>country</th>\n",
       "      <th>joined_at</th>\n",
       "      <th>paid_at</th>\n",
       "      <th>revenue</th>\n",
       "      <th>payment_id</th>\n",
       "      <th>from_page</th>\n",
       "      <th>product_type</th>\n",
       "    </tr>\n",
       "  </thead>\n",
       "  <tbody>\n",
       "    <tr>\n",
       "      <th>65</th>\n",
       "      <td>960936960</td>\n",
       "      <td>Russian Federation</td>\n",
       "      <td>2015-01-19 11:49:00</td>\n",
       "      <td>2016-12-14 17:30:00</td>\n",
       "      <td>26.0</td>\n",
       "      <td>0</td>\n",
       "      <td>refund_VP</td>\n",
       "      <td>other_type</td>\n",
       "    </tr>\n",
       "    <tr>\n",
       "      <th>101</th>\n",
       "      <td>960936960</td>\n",
       "      <td>Russian Federation</td>\n",
       "      <td>2015-01-19 11:49:00</td>\n",
       "      <td>2016-12-14 17:35:00</td>\n",
       "      <td>637.0</td>\n",
       "      <td>0</td>\n",
       "      <td>refung_AP</td>\n",
       "      <td>other_type</td>\n",
       "    </tr>\n",
       "    <tr>\n",
       "      <th>224</th>\n",
       "      <td>960936960</td>\n",
       "      <td>Russian Federation</td>\n",
       "      <td>2015-01-19 11:49:00</td>\n",
       "      <td>2016-12-14 16:16:00</td>\n",
       "      <td>143.0</td>\n",
       "      <td>0</td>\n",
       "      <td>refund_WP</td>\n",
       "      <td>other_type</td>\n",
       "    </tr>\n",
       "  </tbody>\n",
       "</table>\n",
       "</div>"
      ],
      "text/plain": [
       "           uid             country           joined_at             paid_at  \\\n",
       "65   960936960  Russian Federation 2015-01-19 11:49:00 2016-12-14 17:30:00   \n",
       "101  960936960  Russian Federation 2015-01-19 11:49:00 2016-12-14 17:35:00   \n",
       "224  960936960  Russian Federation 2015-01-19 11:49:00 2016-12-14 16:16:00   \n",
       "\n",
       "     revenue  payment_id  from_page product_type  \n",
       "65      26.0           0  refund_VP   other_type  \n",
       "101    637.0           0  refung_AP   other_type  \n",
       "224    143.0           0  refund_WP   other_type  "
      ]
     },
     "execution_count": 43,
     "metadata": {},
     "output_type": "execute_result"
    }
   ],
   "source": [
    "transactions_control_1.query('joined_at < \"2017-01-11\"')"
   ]
  },
  {
   "cell_type": "code",
   "execution_count": 44,
   "metadata": {},
   "outputs": [],
   "source": [
    "# Уберем пользователя из обоих df\n",
    "transactions_control_1 = transactions_control_1.query('uid != \"960936960.0\"')\n",
    "users_control_1        = users_control_1.query('uid != \"960936960\"')"
   ]
  },
  {
   "cell_type": "markdown",
   "metadata": {},
   "source": [
    "Отбираем нужные страны. Составим список стран, которые есть во всех датасетах users_* и transactions_* (т.к. изменения коснулись премиум пользователей). Будем считать, что именно в этих странах производился эксперимент."
   ]
  },
  {
   "cell_type": "code",
   "execution_count": 45,
   "metadata": {},
   "outputs": [],
   "source": [
    "country_ls = list(transactions_test \\\n",
    "                       .query('country in @transactions_control_1.country.unique() and country in @transactions_control_2.country.unique() and country in @users_control_1.country.unique() and country in @users_control_2.country.unique() and country in @users_test.country.unique()') \\\n",
    "                       .country.unique())"
   ]
  },
  {
   "cell_type": "code",
   "execution_count": 46,
   "metadata": {},
   "outputs": [],
   "source": [
    "# Оставляем записи пользователей только из этих стран\n",
    "users_test      = users_test.query('country in @country_ls')\n",
    "users_control_1 = users_control_1.query('country in @country_ls')\n",
    "users_control_2 = users_control_2.query('country in @country_ls')\n",
    "\n",
    "transactions_test      = transactions_test.query('country in @country_ls')\n",
    "transactions_control_1 = transactions_control_1.query('country in @country_ls')\n",
    "transactions_control_2 = transactions_control_2.query('country in @country_ls')"
   ]
  },
  {
   "cell_type": "markdown",
   "metadata": {},
   "source": [
    "Отбираем 2 нужные платежные системы. Ищем записи в датасетах transaction_*, где присутствует премиум подписка (premium_no_trial) (т.к. изменили именно стоимость премиум подписки)"
   ]
  },
  {
   "cell_type": "code",
   "execution_count": 47,
   "metadata": {},
   "outputs": [
    {
     "data": {
      "text/plain": [
       "147    61\n",
       "68     12\n",
       "0       1\n",
       "Name: payment_id, dtype: int64"
      ]
     },
     "execution_count": 47,
     "metadata": {},
     "output_type": "execute_result"
    }
   ],
   "source": [
    "transactions_test.query('product_type == \"premium_no_trial\"').payment_id.value_counts()"
   ]
  },
  {
   "cell_type": "code",
   "execution_count": 48,
   "metadata": {
    "scrolled": true
   },
   "outputs": [
    {
     "data": {
      "text/plain": [
       "147    85\n",
       "68     16\n",
       "0       2\n",
       "Name: payment_id, dtype: int64"
      ]
     },
     "execution_count": 48,
     "metadata": {},
     "output_type": "execute_result"
    }
   ],
   "source": [
    "transactions_control_1.query('product_type == \"premium_no_trial\"').payment_id.value_counts()"
   ]
  },
  {
   "cell_type": "code",
   "execution_count": 49,
   "metadata": {},
   "outputs": [
    {
     "data": {
      "text/plain": [
       "147    88\n",
       "68     11\n",
       "0       1\n",
       "Name: payment_id, dtype: int64"
      ]
     },
     "execution_count": 49,
     "metadata": {},
     "output_type": "execute_result"
    }
   ],
   "source": [
    "transactions_control_2.query('product_type == \"premium_no_trial\"').payment_id.value_counts()"
   ]
  },
  {
   "cell_type": "markdown",
   "metadata": {},
   "source": [
    "Платежная система 0 имеет всего 4 записи суммарно, поэтому мы можем исключить эту систему, т.к. по условию у нас их должно быть всего 2 - это системы 147 и 68.\n",
    "\n",
    "Отбираем транзакции с этими платежными системами:"
   ]
  },
  {
   "cell_type": "code",
   "execution_count": 50,
   "metadata": {},
   "outputs": [],
   "source": [
    "transactions_test      = transactions_test.query('payment_id == 147 or payment_id == 68')\n",
    "transactions_control_1 = transactions_control_1.query('payment_id == 147 or payment_id == 68')\n",
    "transactions_control_2 = transactions_control_2.query('payment_id == 147 or payment_id == 68')"
   ]
  },
  {
   "cell_type": "code",
   "execution_count": 51,
   "metadata": {},
   "outputs": [
    {
     "data": {
      "text/plain": [
       "(150, 8)"
      ]
     },
     "execution_count": 51,
     "metadata": {},
     "output_type": "execute_result"
    }
   ],
   "source": [
    "transactions_control_2.shape"
   ]
  },
  {
   "cell_type": "markdown",
   "metadata": {},
   "source": [
    "Среди юзеров также отберем только этих пользователей, чтобы соблюсти все условия эксперимента, т.к. изменения коснулись только платящих пользователей."
   ]
  },
  {
   "cell_type": "code",
   "execution_count": 52,
   "metadata": {},
   "outputs": [],
   "source": [
    "users_test      = users_test.query('uid in @transactions_test.uid.unique()')\n",
    "users_control_1 = users_control_1.query('uid in @transactions_control_1.uid.unique()')\n",
    "users_control_2 = users_control_2.query('uid in @transactions_control_2.uid.unique()')"
   ]
  },
  {
   "cell_type": "markdown",
   "metadata": {},
   "source": [
    "Посмотрим на соотношение оставшихся пользователей"
   ]
  },
  {
   "cell_type": "code",
   "execution_count": 53,
   "metadata": {},
   "outputs": [
    {
     "data": {
      "text/plain": [
       "29.061784897025174"
      ]
     },
     "execution_count": 53,
     "metadata": {},
     "output_type": "execute_result"
    }
   ],
   "source": [
    "# Процент тестовой группы\n",
    "users_test.shape[0]/(users_control_1.shape[0] + users_control_2.shape[0] + users_test.shape[0])*100"
   ]
  },
  {
   "cell_type": "code",
   "execution_count": 54,
   "metadata": {},
   "outputs": [
    {
     "data": {
      "text/plain": [
       "37.52860411899314"
      ]
     },
     "execution_count": 54,
     "metadata": {},
     "output_type": "execute_result"
    }
   ],
   "source": [
    "# Процент 1 контрольной группы\n",
    "users_control_1.shape[0]/(users_control_1.shape[0] + users_control_2.shape[0] + users_test.shape[0])*100"
   ]
  },
  {
   "cell_type": "code",
   "execution_count": 55,
   "metadata": {},
   "outputs": [
    {
     "data": {
      "text/plain": [
       "33.40961098398169"
      ]
     },
     "execution_count": 55,
     "metadata": {},
     "output_type": "execute_result"
    }
   ],
   "source": [
    "# Процент 2 контрольной группы\n",
    "users_control_2.shape[0]/(users_control_1.shape[0] + users_control_2.shape[0] + users_test.shape[0])*100"
   ]
  },
  {
   "cell_type": "markdown",
   "metadata": {},
   "source": [
    "Для убеждения в равном разделении пользователей между группами добавим статистический анализ.\n",
    "\n",
    "Используем критерий хи-квадрат с ожидаемыми и наблюдаемыми частотами:\n",
    "\n",
    "- $H_0$: ожидаемые и наблюдаемые частоты данных статистически значимо не различаются в группах (p-value > 0.05)\n",
    "- $H_1$: ожидаемые и наблюдаемые частоты данных статистически значимо различаются в группах"
   ]
  },
  {
   "cell_type": "code",
   "execution_count": 56,
   "metadata": {},
   "outputs": [
    {
     "data": {
      "text/plain": [
       "Power_divergenceResult(statistic=4.700228832951947, pvalue=0.09535825103631365)"
      ]
     },
     "execution_count": 56,
     "metadata": {},
     "output_type": "execute_result"
    }
   ],
   "source": [
    "obs = [users_test.shape[0], users_control_1.shape[0], users_control_2.shape[0]]\n",
    "obs_sum = sum(obs)\n",
    "exp = [obs_sum/3, obs_sum/3,  obs_sum/3]\n",
    "\n",
    "ss.chisquare(obs, f_exp=exp)"
   ]
  },
  {
   "cell_type": "markdown",
   "metadata": {},
   "source": [
    "p-value > 0.05, нулевую гипотезу не отклоняем, т.е. размеры итоговых выборок в контрольных и тестовой группы статистически значимо не различаются."
   ]
  },
  {
   "cell_type": "code",
   "execution_count": 57,
   "metadata": {
    "scrolled": true
   },
   "outputs": [
    {
     "data": {
      "text/plain": [
       "(127, 13)"
      ]
     },
     "execution_count": 57,
     "metadata": {},
     "output_type": "execute_result"
    }
   ],
   "source": [
    "# Итоговые размеры датасетов\n",
    "users_test.shape"
   ]
  },
  {
   "cell_type": "code",
   "execution_count": 58,
   "metadata": {},
   "outputs": [
    {
     "data": {
      "text/plain": [
       "(164, 13)"
      ]
     },
     "execution_count": 58,
     "metadata": {},
     "output_type": "execute_result"
    }
   ],
   "source": [
    "users_control_1.shape"
   ]
  },
  {
   "cell_type": "code",
   "execution_count": 59,
   "metadata": {},
   "outputs": [
    {
     "data": {
      "text/plain": [
       "(146, 13)"
      ]
     },
     "execution_count": 59,
     "metadata": {},
     "output_type": "execute_result"
    }
   ],
   "source": [
    "users_control_2.shape"
   ]
  },
  {
   "cell_type": "code",
   "execution_count": 60,
   "metadata": {},
   "outputs": [
    {
     "data": {
      "text/plain": [
       "(137, 8)"
      ]
     },
     "execution_count": 60,
     "metadata": {},
     "output_type": "execute_result"
    }
   ],
   "source": [
    "transactions_test.shape"
   ]
  },
  {
   "cell_type": "code",
   "execution_count": 61,
   "metadata": {},
   "outputs": [
    {
     "data": {
      "text/plain": [
       "(169, 8)"
      ]
     },
     "execution_count": 61,
     "metadata": {},
     "output_type": "execute_result"
    }
   ],
   "source": [
    "transactions_control_1.shape"
   ]
  },
  {
   "cell_type": "code",
   "execution_count": 62,
   "metadata": {},
   "outputs": [
    {
     "data": {
      "text/plain": [
       "(150, 8)"
      ]
     },
     "execution_count": 62,
     "metadata": {},
     "output_type": "execute_result"
    }
   ],
   "source": [
    "transactions_control_2.shape"
   ]
  },
  {
   "cell_type": "markdown",
   "metadata": {},
   "source": [
    "Можно заметить, что даже после фильтрации на итоговых выборках такого размера нормальность распределений не играет важной роли."
   ]
  },
  {
   "cell_type": "markdown",
   "metadata": {},
   "source": [
    "Таким образом, были отобраны необходимые новые пользователи (по одинаковой минимальной дате) из некоторых стран (общие страны из всех датасетов), которые воспользовались двумя платежными системами (147 и 68 - общие системы из всех групп с оплатой премиум подписки)."
   ]
  },
  {
   "cell_type": "markdown",
   "metadata": {},
   "source": [
    "## 2: Общая оценка данных\n"
   ]
  },
  {
   "cell_type": "markdown",
   "metadata": {},
   "source": [
    "Исследуем наши данные по некоторым имеющимся признакам, чтобы удостовериться в репрезентативности выборок для последующего проведения А/А/В тестов, а также сделать некоторые предварительные выводы."
   ]
  },
  {
   "cell_type": "code",
   "execution_count": 63,
   "metadata": {},
   "outputs": [],
   "source": [
    "# Создадим в датасетах колонки с названием группы\n",
    "users_test['group']      = 'test'\n",
    "users_control_1['group'] = 'control_1'\n",
    "users_control_2['group'] = 'control_2'\n",
    "\n",
    "transactions_test['group']      = 'test'\n",
    "transactions_control_1['group'] = 'control_1'\n",
    "transactions_control_1['group'] = 'control_2'"
   ]
  },
  {
   "cell_type": "code",
   "execution_count": 64,
   "metadata": {},
   "outputs": [],
   "source": [
    "# Объединим датасеты для удобства\n",
    "users_merged        = pd.concat([users_test, users_control_1, users_control_2])\n",
    "transactions_merged = pd.concat([transactions_test, transactions_control_1, transactions_control_2])"
   ]
  },
  {
   "cell_type": "code",
   "execution_count": 65,
   "metadata": {},
   "outputs": [
    {
     "data": {
      "image/png": "[encoded data removed]",
      "text/plain": [
       "<Figure size 864x288 with 3 Axes>"
      ]
     },
     "metadata": {},
     "output_type": "display_data"
    }
   ],
   "source": [
    "# Распределение пользователей в зависимости от возраста\n",
    "fig, axes = plt.subplots(nrows=1, ncols=3, figsize=(12, 4))\n",
    "\n",
    "sns.histplot(x=users_test.age, ax = axes[0])\n",
    "axes[0].set(title='Test group')\n",
    "\n",
    "sns.histplot(x=users_control_1.age, ax = axes[1])\n",
    "axes[1].set(title='1 control group', ylabel='')\n",
    "\n",
    "sns.histplot(x=users_control_2.age, ax = axes[2])\n",
    "axes[2].set(title='2 control group', ylabel='')\n",
    "\n",
    "sns.despine()\n",
    "plt.tight_layout()"
   ]
  },
  {
   "cell_type": "code",
   "execution_count": 66,
   "metadata": {},
   "outputs": [
    {
     "data": {
      "text/plain": [
       "32.83464566929134"
      ]
     },
     "execution_count": 66,
     "metadata": {},
     "output_type": "execute_result"
    }
   ],
   "source": [
    "# Посмотрим на средние значения возраста по группам\n",
    "users_test.age.mean()"
   ]
  },
  {
   "cell_type": "code",
   "execution_count": 67,
   "metadata": {},
   "outputs": [
    {
     "data": {
      "text/plain": [
       "31.79268292682927"
      ]
     },
     "execution_count": 67,
     "metadata": {},
     "output_type": "execute_result"
    }
   ],
   "source": [
    "users_control_1.age.mean()"
   ]
  },
  {
   "cell_type": "code",
   "execution_count": 68,
   "metadata": {},
   "outputs": [
    {
     "data": {
      "text/plain": [
       "31.472602739726028"
      ]
     },
     "execution_count": 68,
     "metadata": {},
     "output_type": "execute_result"
    }
   ],
   "source": [
    "users_control_2.age.mean()"
   ]
  },
  {
   "cell_type": "markdown",
   "metadata": {},
   "source": [
    "Проверим группы на гомоскедастичность:\n",
    "\n",
    "- $H_0$: дисперсии равны, equal_var = True\n",
    "- $H_1$: дисперсии различны"
   ]
  },
  {
   "cell_type": "code",
   "execution_count": 69,
   "metadata": {},
   "outputs": [
    {
     "data": {
      "text/html": [
       "<div>\n",
       "<style scoped>\n",
       "    .dataframe tbody tr th:only-of-type {\n",
       "        vertical-align: middle;\n",
       "    }\n",
       "\n",
       "    .dataframe tbody tr th {\n",
       "        vertical-align: top;\n",
       "    }\n",
       "\n",
       "    .dataframe thead th {\n",
       "        text-align: right;\n",
       "    }\n",
       "</style>\n",
       "<table border=\"1\" class=\"dataframe\">\n",
       "  <thead>\n",
       "    <tr style=\"text-align: right;\">\n",
       "      <th></th>\n",
       "      <th>W</th>\n",
       "      <th>pval</th>\n",
       "      <th>equal_var</th>\n",
       "    </tr>\n",
       "  </thead>\n",
       "  <tbody>\n",
       "    <tr>\n",
       "      <th>levene</th>\n",
       "      <td>0.107369</td>\n",
       "      <td>0.898218</td>\n",
       "      <td>True</td>\n",
       "    </tr>\n",
       "  </tbody>\n",
       "</table>\n",
       "</div>"
      ],
      "text/plain": [
       "               W      pval  equal_var\n",
       "levene  0.107369  0.898218       True"
      ]
     },
     "execution_count": 69,
     "metadata": {},
     "output_type": "execute_result"
    }
   ],
   "source": [
    "pg.homoscedasticity(data = users_merged, dv = 'age', group = 'group')"
   ]
  },
  {
   "cell_type": "markdown",
   "metadata": {},
   "source": [
    "Тест на гомоскедастичность показал, что дисперсии в группах статистически не различны"
   ]
  },
  {
   "cell_type": "markdown",
   "metadata": {},
   "source": [
    "Т.к. у нас 3 группы с количественными переменными, сравним их распределения при помощи критерия Краскела-Уоллиса:\n",
    "\n",
    "- $H_0$: нет статистически значимых различий между распределениями возраста в тестовой и контрольных группах (p-value > 0.05)\n",
    "- $H_1$: есть статистически значимые различия между распределениями возраста в тестовой и контрольных группах"
   ]
  },
  {
   "cell_type": "code",
   "execution_count": 70,
   "metadata": {},
   "outputs": [
    {
     "data": {
      "text/plain": [
       "KruskalResult(statistic=1.8616835221800525, pvalue=0.39422173015390216)"
      ]
     },
     "execution_count": 70,
     "metadata": {},
     "output_type": "execute_result"
    }
   ],
   "source": [
    "kruskal(users_merged.query('group == \"test\"').age, users_merged.query('group == \"control_1\"').age, users_merged.query('group == \"control_2\"').age)"
   ]
  },
  {
   "cell_type": "markdown",
   "metadata": {},
   "source": [
    "Основная возрастная категория - молодежь (25-35 лет). Средний возраст пользователей - 32 года.\n",
    "\n",
    "Согласно статистике (p-value > 0.05) нулевую гипотезу об отсутствии различий распределений возраста в тестовой и контрольных группах мы отклонить также не можем. Мы можем считать возрастное распределение в группах одинаковым, что говорит о репрезентативности выборок по этому признаку."
   ]
  },
  {
   "cell_type": "code",
   "execution_count": 71,
   "metadata": {
    "scrolled": true
   },
   "outputs": [
    {
     "data": {
      "image/png": "[encoded data removed]",
      "text/plain": [
       "<Figure size 864x288 with 3 Axes>"
      ]
     },
     "metadata": {},
     "output_type": "display_data"
    }
   ],
   "source": [
    "# Распределение пользователей в зависимости от коэффициента привлекательности\n",
    "fig, axes = plt.subplots(nrows=1, ncols=3, figsize=(12, 4))\n",
    "\n",
    "sns.histplot(x=users_test.attraction_coeff, ax = axes[0])\n",
    "axes[0].set(title='Test group')\n",
    "\n",
    "sns.histplot(x=users_control_1.attraction_coeff, ax = axes[1])\n",
    "axes[1].set(title='1 control group', ylabel='')\n",
    "\n",
    "sns.histplot(x=users_control_2.attraction_coeff, ax = axes[2])\n",
    "axes[2].set(title='2 control group', ylabel='')\n",
    "\n",
    "sns.despine()\n",
    "plt.tight_layout()"
   ]
  },
  {
   "cell_type": "code",
   "execution_count": 72,
   "metadata": {
    "scrolled": true
   },
   "outputs": [
    {
     "data": {
      "text/plain": [
       "353.13385826771656"
      ]
     },
     "execution_count": 72,
     "metadata": {},
     "output_type": "execute_result"
    }
   ],
   "source": [
    "# Посмотрим на средние значения коэффициента привлекательности по группам\n",
    "users_test.attraction_coeff.mean()"
   ]
  },
  {
   "cell_type": "code",
   "execution_count": 73,
   "metadata": {},
   "outputs": [
    {
     "data": {
      "text/plain": [
       "339.6219512195122"
      ]
     },
     "execution_count": 73,
     "metadata": {},
     "output_type": "execute_result"
    }
   ],
   "source": [
    "users_control_1.attraction_coeff.mean()"
   ]
  },
  {
   "cell_type": "code",
   "execution_count": 74,
   "metadata": {},
   "outputs": [
    {
     "data": {
      "text/plain": [
       "381.7260273972603"
      ]
     },
     "execution_count": 74,
     "metadata": {},
     "output_type": "execute_result"
    }
   ],
   "source": [
    "users_control_2.attraction_coeff.mean()"
   ]
  },
  {
   "cell_type": "code",
   "execution_count": 75,
   "metadata": {},
   "outputs": [
    {
     "data": {
      "text/html": [
       "<div>\n",
       "<style scoped>\n",
       "    .dataframe tbody tr th:only-of-type {\n",
       "        vertical-align: middle;\n",
       "    }\n",
       "\n",
       "    .dataframe tbody tr th {\n",
       "        vertical-align: top;\n",
       "    }\n",
       "\n",
       "    .dataframe thead th {\n",
       "        text-align: right;\n",
       "    }\n",
       "</style>\n",
       "<table border=\"1\" class=\"dataframe\">\n",
       "  <thead>\n",
       "    <tr style=\"text-align: right;\">\n",
       "      <th></th>\n",
       "      <th>W</th>\n",
       "      <th>pval</th>\n",
       "      <th>equal_var</th>\n",
       "    </tr>\n",
       "  </thead>\n",
       "  <tbody>\n",
       "    <tr>\n",
       "      <th>levene</th>\n",
       "      <td>2.508938</td>\n",
       "      <td>0.082534</td>\n",
       "      <td>True</td>\n",
       "    </tr>\n",
       "  </tbody>\n",
       "</table>\n",
       "</div>"
      ],
      "text/plain": [
       "               W      pval  equal_var\n",
       "levene  2.508938  0.082534       True"
      ]
     },
     "execution_count": 75,
     "metadata": {},
     "output_type": "execute_result"
    }
   ],
   "source": [
    "# Проверка на гомоскедастичность\n",
    "pg.homoscedasticity(data = users_merged, dv = 'attraction_coeff', group = 'group')"
   ]
  },
  {
   "cell_type": "markdown",
   "metadata": {},
   "source": [
    "Т.к. у нас 3 группы с количественными переменными, сравним их распределения при помощи критерия Краскела-Уоллиса:\n",
    "\n",
    "- $H_0$: нет статистически значимых различий между распределениями коэффициента привлекательности в тестовой и контрольных группах (p-value > 0.05)\n",
    "- $H_1$: есть статистически значимые различия между распределениями коэффициента привлекательности в тестовой и контрольных группах"
   ]
  },
  {
   "cell_type": "code",
   "execution_count": 76,
   "metadata": {},
   "outputs": [
    {
     "data": {
      "text/plain": [
       "KruskalResult(statistic=1.3258233628683038, pvalue=0.5153486168360484)"
      ]
     },
     "execution_count": 76,
     "metadata": {},
     "output_type": "execute_result"
    }
   ],
   "source": [
    "kruskal(users_merged.query('group == \"test\"').attraction_coeff, users_merged.query('group == \"control_1\"').attraction_coeff, users_merged.query('group == \"control_2\"').attraction_coeff)"
   ]
  },
  {
   "cell_type": "markdown",
   "metadata": {},
   "source": [
    "Средний коэффициент привлекательности пользователей в группах - 340-382 (max - 1000)\n",
    "\n",
    "Согласно статистике (p-value > 0.05) нулевую гипотезу об отсутствии различий распределений коэффициента привлекательности в тестовой и контрольных группах мы отклонить не можем. Т.е. мы можем считать распределения в группах одинаковыми, что говорит о репрезентативности выборок по этому признаку."
   ]
  },
  {
   "cell_type": "code",
   "execution_count": 77,
   "metadata": {
    "scrolled": true
   },
   "outputs": [
    {
     "data": {
      "image/png": "[encoded data removed]",
      "text/plain": [
       "<Figure size 864x288 with 3 Axes>"
      ]
     },
     "metadata": {},
     "output_type": "display_data"
    }
   ],
   "source": [
    "# Распределение пользователей в зависимости от количества внутренней валюты (coins)\n",
    "fig, axes = plt.subplots(nrows=1, ncols=3, figsize=(12, 4))\n",
    "\n",
    "sns.boxplot(y=users_test.coins, ax = axes[0])\n",
    "axes[0].set(title='Test group')\n",
    "\n",
    "sns.boxplot(y=users_control_1.coins, ax = axes[1])\n",
    "axes[1].set(title='1 control group', ylabel='')\n",
    "\n",
    "sns.boxplot(y=users_control_2.coins, ax = axes[2])\n",
    "axes[2].set(title='2 control group', ylabel='')\n",
    "\n",
    "sns.despine()\n",
    "plt.tight_layout()"
   ]
  },
  {
   "cell_type": "markdown",
   "metadata": {},
   "source": [
    "Проверим наш экстремальный выброс в 1 контрольной группе:"
   ]
  },
  {
   "cell_type": "code",
   "execution_count": 78,
   "metadata": {},
   "outputs": [
    {
     "data": {
      "text/html": [
       "<div>\n",
       "<style scoped>\n",
       "    .dataframe tbody tr th:only-of-type {\n",
       "        vertical-align: middle;\n",
       "    }\n",
       "\n",
       "    .dataframe tbody tr th {\n",
       "        vertical-align: top;\n",
       "    }\n",
       "\n",
       "    .dataframe thead th {\n",
       "        text-align: right;\n",
       "    }\n",
       "</style>\n",
       "<table border=\"1\" class=\"dataframe\">\n",
       "  <thead>\n",
       "    <tr style=\"text-align: right;\">\n",
       "      <th></th>\n",
       "      <th>uid</th>\n",
       "      <th>age</th>\n",
       "      <th>attraction_coeff</th>\n",
       "      <th>coins</th>\n",
       "      <th>country</th>\n",
       "      <th>visit_days</th>\n",
       "      <th>gender</th>\n",
       "      <th>age_filter_start</th>\n",
       "      <th>age_filter_end</th>\n",
       "      <th>views_count</th>\n",
       "      <th>was_premium</th>\n",
       "      <th>is_premium</th>\n",
       "      <th>total_revenue</th>\n",
       "      <th>group</th>\n",
       "    </tr>\n",
       "  </thead>\n",
       "  <tbody>\n",
       "    <tr>\n",
       "      <th>1427</th>\n",
       "      <td>892333905</td>\n",
       "      <td>22</td>\n",
       "      <td>175</td>\n",
       "      <td>3608.0</td>\n",
       "      <td>Italy</td>\n",
       "      <td>1,2,3,4,5,6,7,15</td>\n",
       "      <td>1</td>\n",
       "      <td>19</td>\n",
       "      <td>25</td>\n",
       "      <td>575</td>\n",
       "      <td>1.0</td>\n",
       "      <td>1.0</td>\n",
       "      <td>486330</td>\n",
       "      <td>control_1</td>\n",
       "    </tr>\n",
       "  </tbody>\n",
       "</table>\n",
       "</div>"
      ],
      "text/plain": [
       "            uid  age  attraction_coeff   coins country        visit_days  \\\n",
       "1427  892333905   22               175  3608.0   Italy  1,2,3,4,5,6,7,15   \n",
       "\n",
       "      gender  age_filter_start  age_filter_end  views_count  was_premium  \\\n",
       "1427       1                19              25          575          1.0   \n",
       "\n",
       "      is_premium  total_revenue      group  \n",
       "1427         1.0         486330  control_1  "
      ]
     },
     "execution_count": 78,
     "metadata": {},
     "output_type": "execute_result"
    }
   ],
   "source": [
    "users_control_1.query('coins == coins.max()')"
   ]
  },
  {
   "cell_type": "code",
   "execution_count": 79,
   "metadata": {},
   "outputs": [
    {
     "data": {
      "text/html": [
       "<div>\n",
       "<style scoped>\n",
       "    .dataframe tbody tr th:only-of-type {\n",
       "        vertical-align: middle;\n",
       "    }\n",
       "\n",
       "    .dataframe tbody tr th {\n",
       "        vertical-align: top;\n",
       "    }\n",
       "\n",
       "    .dataframe thead th {\n",
       "        text-align: right;\n",
       "    }\n",
       "</style>\n",
       "<table border=\"1\" class=\"dataframe\">\n",
       "  <thead>\n",
       "    <tr style=\"text-align: right;\">\n",
       "      <th></th>\n",
       "      <th>uid</th>\n",
       "      <th>country</th>\n",
       "      <th>joined_at</th>\n",
       "      <th>paid_at</th>\n",
       "      <th>revenue</th>\n",
       "      <th>payment_id</th>\n",
       "      <th>from_page</th>\n",
       "      <th>product_type</th>\n",
       "      <th>group</th>\n",
       "    </tr>\n",
       "  </thead>\n",
       "  <tbody>\n",
       "    <tr>\n",
       "      <th>143</th>\n",
       "      <td>892333905</td>\n",
       "      <td>Italy</td>\n",
       "      <td>2017-10-16 01:38:00</td>\n",
       "      <td>2017-10-16 13:10:00</td>\n",
       "      <td>63037.0</td>\n",
       "      <td>147</td>\n",
       "      <td>no_sympathy</td>\n",
       "      <td>premium_no_trial</td>\n",
       "      <td>control_2</td>\n",
       "    </tr>\n",
       "  </tbody>\n",
       "</table>\n",
       "</div>"
      ],
      "text/plain": [
       "           uid country           joined_at             paid_at  revenue  \\\n",
       "143  892333905   Italy 2017-10-16 01:38:00 2017-10-16 13:10:00  63037.0   \n",
       "\n",
       "     payment_id    from_page      product_type      group  \n",
       "143         147  no_sympathy  premium_no_trial  control_2  "
      ]
     },
     "execution_count": 79,
     "metadata": {},
     "output_type": "execute_result"
    }
   ],
   "source": [
    "transactions_control_1.query('uid == 892333905')"
   ]
  },
  {
   "cell_type": "markdown",
   "metadata": {},
   "source": [
    "Примем решение не удалять данного пользователя, он не должен испортить результат нашего анализа"
   ]
  },
  {
   "cell_type": "code",
   "execution_count": 80,
   "metadata": {},
   "outputs": [
    {
     "data": {
      "text/html": [
       "<div>\n",
       "<style scoped>\n",
       "    .dataframe tbody tr th:only-of-type {\n",
       "        vertical-align: middle;\n",
       "    }\n",
       "\n",
       "    .dataframe tbody tr th {\n",
       "        vertical-align: top;\n",
       "    }\n",
       "\n",
       "    .dataframe thead th {\n",
       "        text-align: right;\n",
       "    }\n",
       "</style>\n",
       "<table border=\"1\" class=\"dataframe\">\n",
       "  <thead>\n",
       "    <tr style=\"text-align: right;\">\n",
       "      <th></th>\n",
       "      <th>W</th>\n",
       "      <th>pval</th>\n",
       "      <th>equal_var</th>\n",
       "    </tr>\n",
       "  </thead>\n",
       "  <tbody>\n",
       "    <tr>\n",
       "      <th>levene</th>\n",
       "      <td>0.547366</td>\n",
       "      <td>0.57887</td>\n",
       "      <td>True</td>\n",
       "    </tr>\n",
       "  </tbody>\n",
       "</table>\n",
       "</div>"
      ],
      "text/plain": [
       "               W     pval  equal_var\n",
       "levene  0.547366  0.57887       True"
      ]
     },
     "execution_count": 80,
     "metadata": {},
     "output_type": "execute_result"
    }
   ],
   "source": [
    "# Проверка на гомоскедастичность\n",
    "pg.homoscedasticity(data = users_merged, dv = 'coins', group = 'group')"
   ]
  },
  {
   "cell_type": "markdown",
   "metadata": {},
   "source": [
    "Т.к. у нас 3 группы с количественными переменными, сравним их распределения при помощи критерия Краскела-Уоллиса:\n",
    "\n",
    "- $H_0$: нет статистически значимых различий между распределениями количества внутренней валюты в тестовой и контрольных группах (p-value > 0.05)\n",
    "- $H_1$: есть статистически значимые различия между распределениями количества внутренней валюты в тестовой и контрольных группах"
   ]
  },
  {
   "cell_type": "code",
   "execution_count": 81,
   "metadata": {},
   "outputs": [
    {
     "data": {
      "text/plain": [
       "KruskalResult(statistic=1.2617925744049447, pvalue=0.5321146596513002)"
      ]
     },
     "execution_count": 81,
     "metadata": {},
     "output_type": "execute_result"
    }
   ],
   "source": [
    "kruskal(users_merged.query('group == \"test\"').coins, users_merged.query('group == \"control_1\"').coins, users_merged.query('group == \"control_2\"').coins)"
   ]
  },
  {
   "cell_type": "markdown",
   "metadata": {},
   "source": [
    "Наше p-value > 0.05, мы не можем отвергнуть нулевую гипотезу, т.е. различий между распределениями количества внутренней валюты пользователей разных групп нет, что говорит о репрезентативности выборок по данному признаку."
   ]
  },
  {
   "cell_type": "code",
   "execution_count": 82,
   "metadata": {},
   "outputs": [
    {
     "data": {
      "image/png": "[encoded data removed]",
      "text/plain": [
       "<Figure size 864x288 with 3 Axes>"
      ]
     },
     "metadata": {},
     "output_type": "display_data"
    }
   ],
   "source": [
    "# Распределение пользователей в зависимости от страны \n",
    "fig, axes = plt.subplots(nrows=1, ncols=3, figsize=(12, 4))\n",
    "\n",
    "sns.histplot(y=users_test.country.sort_values(ascending=False), ax = axes[0])\n",
    "axes[0].set(title='Test group', ylabel='')\n",
    "\n",
    "sns.histplot(y=users_control_1.country.sort_values(ascending=False), ax = axes[1])\n",
    "axes[1].set(title='1 control group', ylabel='')\n",
    "\n",
    "sns.histplot(y=users_control_2.country.sort_values(ascending=False), ax = axes[2])\n",
    "axes[2].set(title='2 control group', ylabel='')\n",
    "\n",
    "sns.despine()\n",
    "plt.tight_layout()"
   ]
  },
  {
   "cell_type": "markdown",
   "metadata": {},
   "source": [
    "Сравним наши распределения с помощью статистического теста.\n",
    "\n",
    "Есть категориальные переменные (страна, группа пользователя) → нужен хи-квадрат\n",
    "\n",
    "- $H_0$: нет статистически значимой разницы между распределениями пользователей по странам в тестовой и контрольных группах (p-value > 0.05)\n",
    "- $H_1$: есть статистически значимая разница между распределениями пользователей по странам в тестовой и контрольных группах"
   ]
  },
  {
   "cell_type": "code",
   "execution_count": 83,
   "metadata": {},
   "outputs": [
    {
     "data": {
      "text/plain": [
       "(21.86910075724715, 0.7873150709907116)"
      ]
     },
     "execution_count": 83,
     "metadata": {},
     "output_type": "execute_result"
    }
   ],
   "source": [
    "stat, p, dof, expected = chi2_contingency(pd.crosstab(users_merged.country, users_merged.group))\n",
    "stat, p"
   ]
  },
  {
   "cell_type": "markdown",
   "metadata": {},
   "source": [
    "Распределение пользователей в зависимости от страны согласно графикам примерно одинаково в тестовой и контрольных группах. Превалируют пользователи из США.\n",
    "\n",
    "Согласно статистическому тесту (p-value > 0.05) мы не смогли отклонить нулевую гипотезу, не обнаружена статистически значимая разница между распределениями пользователей по странам в тестовой и контрольных группах, что говорит о репрезентативности выборок по этому признаку."
   ]
  },
  {
   "cell_type": "code",
   "execution_count": 84,
   "metadata": {},
   "outputs": [
    {
     "data": {
      "image/png": "[encoded data removed]",
      "text/plain": [
       "<Figure size 864x288 with 3 Axes>"
      ]
     },
     "metadata": {},
     "output_type": "display_data"
    }
   ],
   "source": [
    "# Распределение пользователей в зависимости от пола\n",
    "fig, axes = plt.subplots(nrows=1, ncols=3, figsize=(12, 4))\n",
    "\n",
    "sns.countplot(data=users_test, x = 'gender', ax = axes[0])\n",
    "axes[0].set(title='Test group', ylabel='')\n",
    "\n",
    "sns.countplot(data=users_control_1, x = 'gender', ax = axes[1])\n",
    "axes[1].set(title='1 control group', ylabel='')\n",
    "\n",
    "sns.countplot(data=users_control_2, x = 'gender', ax = axes[2])\n",
    "axes[2].set(title='2 control group', ylabel='')\n",
    "\n",
    "sns.despine()\n",
    "plt.tight_layout()"
   ]
  },
  {
   "cell_type": "markdown",
   "metadata": {},
   "source": [
    "Кажется, ранее было верно предположено, что 1 - это мужчины, а 0 - женщины, т.к. в дейтинг приложениях согласно статистике превалирует мужской пол.\n",
    "Распределение пользователей во всех группах примерно одинаковое."
   ]
  },
  {
   "cell_type": "markdown",
   "metadata": {},
   "source": [
    "Также сравним наши распределения с помощью статистического теста.\n",
    "\n",
    "Есть категориальные переменные (пол, группа пользователя) → нужен хи-квадрат\n",
    "\n",
    "- $H_0$: нет статистически значимой разницы между распределениями пользователей по половому признаку в тестовой и контрольных группах (p-value > 0.05)\n",
    "- $H_1$: есть статистически значимая разница между распределениями пользователей по половому признаку в тестовой и контрольных группах"
   ]
  },
  {
   "cell_type": "code",
   "execution_count": 85,
   "metadata": {},
   "outputs": [
    {
     "data": {
      "text/plain": [
       "(1.72669415296182, 0.4217480941477504)"
      ]
     },
     "execution_count": 85,
     "metadata": {},
     "output_type": "execute_result"
    }
   ],
   "source": [
    "stat, p, dof, expected = chi2_contingency(pd.crosstab(users_merged.gender, users_merged.group))\n",
    "stat, p"
   ]
  },
  {
   "cell_type": "markdown",
   "metadata": {},
   "source": [
    "Согласно статистическому тесту (p-value > 0.05) также не обнаружена статистически значимая разница между распределениями пользователей по половому признаку в тестовой и контрольных группах, что говорит о репрезентативности выборок по этому признаку."
   ]
  },
  {
   "cell_type": "code",
   "execution_count": 86,
   "metadata": {},
   "outputs": [
    {
     "data": {
      "image/png": "[encoded data removed]",
      "text/plain": [
       "<Figure size 432x288 with 1 Axes>"
      ]
     },
     "metadata": {},
     "output_type": "display_data"
    }
   ],
   "source": [
    "# Посмотрим на число оценок пользователей в зависимости от группы\n",
    "sns.barplot(data = users_merged, x = 'group', y = 'views_count')\n",
    "sns.despine()\n",
    "plt.title('Views count depending on group\\n')\n",
    "plt.tight_layout()"
   ]
  },
  {
   "cell_type": "code",
   "execution_count": 87,
   "metadata": {},
   "outputs": [
    {
     "data": {
      "text/html": [
       "<div>\n",
       "<style scoped>\n",
       "    .dataframe tbody tr th:only-of-type {\n",
       "        vertical-align: middle;\n",
       "    }\n",
       "\n",
       "    .dataframe tbody tr th {\n",
       "        vertical-align: top;\n",
       "    }\n",
       "\n",
       "    .dataframe thead th {\n",
       "        text-align: right;\n",
       "    }\n",
       "</style>\n",
       "<table border=\"1\" class=\"dataframe\">\n",
       "  <thead>\n",
       "    <tr style=\"text-align: right;\">\n",
       "      <th></th>\n",
       "      <th>W</th>\n",
       "      <th>pval</th>\n",
       "      <th>equal_var</th>\n",
       "    </tr>\n",
       "  </thead>\n",
       "  <tbody>\n",
       "    <tr>\n",
       "      <th>levene</th>\n",
       "      <td>1.271269</td>\n",
       "      <td>0.281518</td>\n",
       "      <td>True</td>\n",
       "    </tr>\n",
       "  </tbody>\n",
       "</table>\n",
       "</div>"
      ],
      "text/plain": [
       "               W      pval  equal_var\n",
       "levene  1.271269  0.281518       True"
      ]
     },
     "execution_count": 87,
     "metadata": {},
     "output_type": "execute_result"
    }
   ],
   "source": [
    "# Тест на гомоскедастичность\n",
    "pg.homoscedasticity(data = users_merged, dv = 'views_count', group = 'group')"
   ]
  },
  {
   "cell_type": "markdown",
   "metadata": {},
   "source": [
    "Т.к. у нас 3 группы, сравним их распределения при помощи критерия Краскела-Уоллиса:\n",
    "\n",
    "- $H_0$: нет статистически значимых различий между распределениями количества просмотров в тестовой и контрольных группах (p-value > 0.05)\n",
    "- $H_1$: есть статистически значимые различия между распределениями количества просмотров в тестовой и контрольных группах"
   ]
  },
  {
   "cell_type": "code",
   "execution_count": 88,
   "metadata": {},
   "outputs": [
    {
     "data": {
      "text/plain": [
       "KruskalResult(statistic=1.9364385074056973, pvalue=0.37975869022377584)"
      ]
     },
     "execution_count": 88,
     "metadata": {},
     "output_type": "execute_result"
    }
   ],
   "source": [
    "kruskal(users_merged.query('group == \"test\"').views_count, users_merged.query('group == \"control_1\"').views_count, users_merged.query('group == \"control_2\"').views_count)"
   ]
  },
  {
   "cell_type": "markdown",
   "metadata": {},
   "source": [
    "Наше p-value > 0.05, мы не можем отвергнуть нулевую гипотезу, т.е. статистически значимых различий между распределениями количества просмотров пользователей разных групп нет, по данному признаку выборки репрезентативны."
   ]
  },
  {
   "cell_type": "markdown",
   "metadata": {},
   "source": [
    "Итак, в ходе проверки наших выборок по нескольких признакам, мы удостоверились в их репрезентативности, имеем качественное разделение пользователей по группам."
   ]
  },
  {
   "cell_type": "markdown",
   "metadata": {},
   "source": [
    "## 3: Проводим А/А/В тесты. Тестируем гипотезы"
   ]
  },
  {
   "cell_type": "markdown",
   "metadata": {},
   "source": [
    "Для оценки успешности эксперимента по изменению стоимости премиум-подписки будем полагаться в первую очередь на изменение **ARPPU_pr (средний доход на платящего премиум пользователя)**, т.к. эксперимент направлен на премиум пользователей, и доход от них - важный для бизнеса показатель. \n",
    "\n",
    "- $H_0$: ARPPU_pr в тестовой группе статистически значимо больше, чем в контрольных группах\n",
    "- $H_1$: ARPPU_pr в тестовой группе статистически значимо меньше, чем в контрольных группах, либо статистически значимо не изменился\n",
    "\n",
    "Но также обратим внимание на такие экономические метрики как:\n",
    "\n",
    "- CR_pr (конверсия из пользователя в покупателя премиум подписки, т.к. в наших итоговых выборках уже все пользователи = покупатели)\n",
    "- ARPPU (средний доход на платящего пользователя, без премиум подписки)\n",
    "(т.к. в наших выборках все пользователи - платящие, будем рассчитывать ARPPU и ARPPU_pr как доход на платящего пользователя и доход на платящего именно за премиум подписку пользователя соответственно)\n",
    "\n",
    "Эти метрики непосредственно связаны с метрикой ARPPU_pr, и при внесении изменений нельзя не обращать на них внимание.\n",
    "\n",
    "И посмотрим на такие метрики как:\n",
    "- соотношение пользователей, продливших/не продливших премиум подписку\n",
    "\n",
    "Пользователи могут менее охотно продлевать премиум подписку, если ее стоимость будет слишком высокая (или более охотно, если низкая), т.е. изменится число премиум пользователей и впоследствии может измениться доход от них.\n",
    "\n",
    "- количество дней посещения (visit days) \n",
    "\n",
    "Есть предположение, что есть взаимосвязь между стоимостью подписки и количеством посещений приложения (можно сравнить это с абонементом в спорт зал - чем выше его стоимость, тем больше мотивация его посещать). То есть заплатив весомую сумму, клиент захочет, чтобы эта трата была оправдана, и будет чаще посещать приложение. А большая возвращаемость клиента может способствовать увеличению дохода от него.\n",
    "\n",
    "Эти метрики хоть и опосредовано, но все же влияют на основую метрику ARPPU_pr, и могут внести вклад в успех эксперимента."
   ]
  },
  {
   "cell_type": "markdown",
   "metadata": {},
   "source": [
    "Проведем **А/А тест для контрольных групп** перед А/В тестированием."
   ]
  },
  {
   "cell_type": "markdown",
   "metadata": {},
   "source": [
    "Для начала проверим группы на гомоскедастичность:"
   ]
  },
  {
   "cell_type": "code",
   "execution_count": 89,
   "metadata": {},
   "outputs": [
    {
     "data": {
      "text/html": [
       "<div>\n",
       "<style scoped>\n",
       "    .dataframe tbody tr th:only-of-type {\n",
       "        vertical-align: middle;\n",
       "    }\n",
       "\n",
       "    .dataframe tbody tr th {\n",
       "        vertical-align: top;\n",
       "    }\n",
       "\n",
       "    .dataframe thead th {\n",
       "        text-align: right;\n",
       "    }\n",
       "</style>\n",
       "<table border=\"1\" class=\"dataframe\">\n",
       "  <thead>\n",
       "    <tr style=\"text-align: right;\">\n",
       "      <th></th>\n",
       "      <th>W</th>\n",
       "      <th>pval</th>\n",
       "      <th>equal_var</th>\n",
       "    </tr>\n",
       "  </thead>\n",
       "  <tbody>\n",
       "    <tr>\n",
       "      <th>levene</th>\n",
       "      <td>0.737499</td>\n",
       "      <td>0.391133</td>\n",
       "      <td>True</td>\n",
       "    </tr>\n",
       "  </tbody>\n",
       "</table>\n",
       "</div>"
      ],
      "text/plain": [
       "               W      pval  equal_var\n",
       "levene  0.737499  0.391133       True"
      ]
     },
     "execution_count": 89,
     "metadata": {},
     "output_type": "execute_result"
    }
   ],
   "source": [
    "pg.homoscedasticity(data = users_merged.query('total_revenue > 0 and group != \"test\"'), dv = 'total_revenue', group = 'group')"
   ]
  },
  {
   "cell_type": "markdown",
   "metadata": {},
   "source": [
    "Будем использовать t-тест, который сравнивает средние значения ARPPU двух выборок:\n",
    "\n",
    "- $H_0$: нет статистически значимых различий между средними значениями ARPPU в контрольных группах\n",
    "- $H_1$: есть статистически значимые различия между средними значениями ARPPU в контрольных группах"
   ]
  },
  {
   "cell_type": "code",
   "execution_count": 90,
   "metadata": {},
   "outputs": [
    {
     "data": {
      "image/png": "[encoded data removed]",
      "text/plain": [
       "<Figure size 576x288 with 1 Axes>"
      ]
     },
     "metadata": {},
     "output_type": "display_data"
    }
   ],
   "source": [
    "df = []\n",
    "\n",
    "for i in range(800):\n",
    "    c_1 = users_control_1.query('total_revenue > 0').total_revenue.sample(100, replace = False).values\n",
    "    c_2 = users_control_2.query('total_revenue > 0').total_revenue.sample(100, replace = False).values\n",
    "    df.append(ttest_ind(c_1, c_2, equal_var = False)[1])\n",
    "\n",
    "fig, axes = plt.subplots(figsize=(8, 4))\n",
    "sns.histplot(df)\n",
    "axes.set(title = 'A/A simulations: t-test ARPPU', xlabel = 'p-value', ylabel = '')\n",
    "sns.despine()\n",
    "plt.tight_layout()"
   ]
  },
  {
   "cell_type": "code",
   "execution_count": 91,
   "metadata": {},
   "outputs": [
    {
     "data": {
      "text/plain": [
       "True"
      ]
     },
     "execution_count": 91,
     "metadata": {},
     "output_type": "execute_result"
    }
   ],
   "source": [
    "# Проверим, что количество ложноположительных случаев не превышает уровень значимости (0.05)\n",
    "((np.array(df) < 0.05) / 800).sum() <= 0.05"
   ]
  },
  {
   "cell_type": "markdown",
   "metadata": {},
   "source": [
    "Нулевую гипотезу мы не можем отвергнуть, т.е. статистически значимых различий по ARPPU в контрольных группах не наблюдается.\n",
    "\n",
    "Таким образом, в А/В тестах мы может использовать только одну из контольных групп, предпочтем группу \"control_2\", т.к. эта выборка претерпевала меньше изменений в предобработке, чем группа \"control_1\""
   ]
  },
  {
   "cell_type": "code",
   "execution_count": 92,
   "metadata": {},
   "outputs": [
    {
     "data": {
      "text/html": [
       "<div>\n",
       "<style scoped>\n",
       "    .dataframe tbody tr th:only-of-type {\n",
       "        vertical-align: middle;\n",
       "    }\n",
       "\n",
       "    .dataframe tbody tr th {\n",
       "        vertical-align: top;\n",
       "    }\n",
       "\n",
       "    .dataframe thead th {\n",
       "        text-align: right;\n",
       "    }\n",
       "</style>\n",
       "<table border=\"1\" class=\"dataframe\">\n",
       "  <thead>\n",
       "    <tr style=\"text-align: right;\">\n",
       "      <th></th>\n",
       "      <th>uid</th>\n",
       "      <th>was_premium</th>\n",
       "      <th>is_premium</th>\n",
       "      <th>group</th>\n",
       "    </tr>\n",
       "  </thead>\n",
       "  <tbody>\n",
       "    <tr>\n",
       "      <th>20</th>\n",
       "      <td>891152790</td>\n",
       "      <td>1.0</td>\n",
       "      <td>1.0</td>\n",
       "      <td>test</td>\n",
       "    </tr>\n",
       "    <tr>\n",
       "      <th>44</th>\n",
       "      <td>891589239</td>\n",
       "      <td>1.0</td>\n",
       "      <td>1.0</td>\n",
       "      <td>test</td>\n",
       "    </tr>\n",
       "    <tr>\n",
       "      <th>100</th>\n",
       "      <td>891343671</td>\n",
       "      <td>1.0</td>\n",
       "      <td>1.0</td>\n",
       "      <td>test</td>\n",
       "    </tr>\n",
       "    <tr>\n",
       "      <th>105</th>\n",
       "      <td>892430988</td>\n",
       "      <td>1.0</td>\n",
       "      <td>1.0</td>\n",
       "      <td>test</td>\n",
       "    </tr>\n",
       "    <tr>\n",
       "      <th>134</th>\n",
       "      <td>891919368</td>\n",
       "      <td>1.0</td>\n",
       "      <td>1.0</td>\n",
       "      <td>test</td>\n",
       "    </tr>\n",
       "  </tbody>\n",
       "</table>\n",
       "</div>"
      ],
      "text/plain": [
       "           uid  was_premium  is_premium group\n",
       "20   891152790          1.0         1.0  test\n",
       "44   891589239          1.0         1.0  test\n",
       "100  891343671          1.0         1.0  test\n",
       "105  892430988          1.0         1.0  test\n",
       "134  891919368          1.0         1.0  test"
      ]
     },
     "execution_count": 92,
     "metadata": {},
     "output_type": "execute_result"
    }
   ],
   "source": [
    "# Соберем информацию по пользователям, продливших / не продливших подписку\n",
    "users_premium = users_merged[['uid', 'was_premium', 'is_premium', 'group']].query('group != \"control_1\"')\n",
    "users_premium.head()"
   ]
  },
  {
   "cell_type": "code",
   "execution_count": 93,
   "metadata": {},
   "outputs": [
    {
     "data": {
      "text/plain": [
       "0"
      ]
     },
     "execution_count": 93,
     "metadata": {},
     "output_type": "execute_result"
    }
   ],
   "source": [
    "users_premium.query('was_premium == 0.0 and is_premium == 1.0').shape[0]"
   ]
  },
  {
   "cell_type": "markdown",
   "metadata": {},
   "source": [
    "Пользователей, у которых не было подписки, и она появилась, нет (что логично), поэтому у нас будет разделение на 3 группы:"
   ]
  },
  {
   "cell_type": "code",
   "execution_count": 94,
   "metadata": {
    "scrolled": true
   },
   "outputs": [
    {
     "data": {
      "text/html": [
       "<div>\n",
       "<style scoped>\n",
       "    .dataframe tbody tr th:only-of-type {\n",
       "        vertical-align: middle;\n",
       "    }\n",
       "\n",
       "    .dataframe tbody tr th {\n",
       "        vertical-align: top;\n",
       "    }\n",
       "\n",
       "    .dataframe thead th {\n",
       "        text-align: right;\n",
       "    }\n",
       "</style>\n",
       "<table border=\"1\" class=\"dataframe\">\n",
       "  <thead>\n",
       "    <tr style=\"text-align: right;\">\n",
       "      <th></th>\n",
       "      <th>uid</th>\n",
       "      <th>was_premium</th>\n",
       "      <th>is_premium</th>\n",
       "      <th>group</th>\n",
       "      <th>premium</th>\n",
       "    </tr>\n",
       "  </thead>\n",
       "  <tbody>\n",
       "    <tr>\n",
       "      <th>20</th>\n",
       "      <td>891152790</td>\n",
       "      <td>1.0</td>\n",
       "      <td>1.0</td>\n",
       "      <td>test</td>\n",
       "      <td>not canceled</td>\n",
       "    </tr>\n",
       "    <tr>\n",
       "      <th>44</th>\n",
       "      <td>891589239</td>\n",
       "      <td>1.0</td>\n",
       "      <td>1.0</td>\n",
       "      <td>test</td>\n",
       "      <td>not canceled</td>\n",
       "    </tr>\n",
       "    <tr>\n",
       "      <th>100</th>\n",
       "      <td>891343671</td>\n",
       "      <td>1.0</td>\n",
       "      <td>1.0</td>\n",
       "      <td>test</td>\n",
       "      <td>not canceled</td>\n",
       "    </tr>\n",
       "    <tr>\n",
       "      <th>105</th>\n",
       "      <td>892430988</td>\n",
       "      <td>1.0</td>\n",
       "      <td>1.0</td>\n",
       "      <td>test</td>\n",
       "      <td>not canceled</td>\n",
       "    </tr>\n",
       "    <tr>\n",
       "      <th>134</th>\n",
       "      <td>891919368</td>\n",
       "      <td>1.0</td>\n",
       "      <td>1.0</td>\n",
       "      <td>test</td>\n",
       "      <td>not canceled</td>\n",
       "    </tr>\n",
       "  </tbody>\n",
       "</table>\n",
       "</div>"
      ],
      "text/plain": [
       "           uid  was_premium  is_premium group       premium\n",
       "20   891152790          1.0         1.0  test  not canceled\n",
       "44   891589239          1.0         1.0  test  not canceled\n",
       "100  891343671          1.0         1.0  test  not canceled\n",
       "105  892430988          1.0         1.0  test  not canceled\n",
       "134  891919368          1.0         1.0  test  not canceled"
      ]
     },
     "execution_count": 94,
     "metadata": {},
     "output_type": "execute_result"
    }
   ],
   "source": [
    "def f(row):\n",
    "    if row['was_premium'] == 0.0 and row['is_premium'] == 0.0:\n",
    "        x = 'no'\n",
    "    elif row['was_premium'] == 1.0 and row['is_premium'] == 0.0:\n",
    "        x = 'canceled'\n",
    "    else:\n",
    "        x = 'not canceled'\n",
    "    return x\n",
    "\n",
    "users_premium['premium'] = users_premium.apply(f, axis = 1)\n",
    "users_premium.head()"
   ]
  },
  {
   "cell_type": "code",
   "execution_count": 95,
   "metadata": {},
   "outputs": [
    {
     "data": {
      "text/plain": [
       "group      premium     \n",
       "control_2  canceled         10\n",
       "           not canceled    136\n",
       "test       canceled          7\n",
       "           not canceled    120\n",
       "dtype: int64"
      ]
     },
     "execution_count": 95,
     "metadata": {},
     "output_type": "execute_result"
    }
   ],
   "source": [
    "users_premium.groupby(['group', 'premium']).size()"
   ]
  },
  {
   "cell_type": "code",
   "execution_count": 96,
   "metadata": {},
   "outputs": [
    {
     "data": {
      "image/png": "[encoded data removed]",
      "text/plain": [
       "<Figure size 432x288 with 1 Axes>"
      ]
     },
     "metadata": {},
     "output_type": "display_data"
    }
   ],
   "source": [
    "# Визуацизация распределений\n",
    "sns.countplot(data=users_premium, x = 'group', hue = 'premium')\n",
    "\n",
    "sns.despine()\n",
    "plt.title('Premium subscription depending on group\\n')\n",
    "plt.tight_layout()"
   ]
  },
  {
   "cell_type": "markdown",
   "metadata": {},
   "source": [
    "Визуально различия не велики. Проверим данные статистикой:\n",
    "Есть категориальные переменные (категория в зависимости от подписки, группа пользователя) → нужен хи-квадрат\n",
    "\n",
    "- $H_0$: нет статистически значимой разницы между распределениями пользователей в зависимости от подписки (продлили/ не продлили) в тестовой и контрольной группе (p-value > 0.05)\n",
    "- $H_1$: есть статистически значимая разница между распределениями пользователей в зависимости от подписки (продлили/ не продлили) в тестовой и контрольной группе\n"
   ]
  },
  {
   "cell_type": "code",
   "execution_count": 97,
   "metadata": {},
   "outputs": [
    {
     "data": {
      "text/plain": [
       "(0.04205977241354288, 0.8375058771665312)"
      ]
     },
     "execution_count": 97,
     "metadata": {},
     "output_type": "execute_result"
    }
   ],
   "source": [
    "stat, p, dof, expected = chi2_contingency(pd.crosstab(users_premium.premium, users_premium.group))\n",
    "stat, p"
   ]
  },
  {
   "cell_type": "code",
   "execution_count": 98,
   "metadata": {},
   "outputs": [
    {
     "data": {
      "text/html": [
       "<div>\n",
       "<style scoped>\n",
       "    .dataframe tbody tr th:only-of-type {\n",
       "        vertical-align: middle;\n",
       "    }\n",
       "\n",
       "    .dataframe tbody tr th {\n",
       "        vertical-align: top;\n",
       "    }\n",
       "\n",
       "    .dataframe thead th {\n",
       "        text-align: right;\n",
       "    }\n",
       "</style>\n",
       "<table border=\"1\" class=\"dataframe\">\n",
       "  <thead>\n",
       "    <tr style=\"text-align: right;\">\n",
       "      <th></th>\n",
       "      <th>test</th>\n",
       "      <th>lambda</th>\n",
       "      <th>chi2</th>\n",
       "      <th>dof</th>\n",
       "      <th>pval</th>\n",
       "      <th>cramer</th>\n",
       "      <th>power</th>\n",
       "    </tr>\n",
       "  </thead>\n",
       "  <tbody>\n",
       "    <tr>\n",
       "      <th>0</th>\n",
       "      <td>pearson</td>\n",
       "      <td>1.000000</td>\n",
       "      <td>0.042060</td>\n",
       "      <td>1.0</td>\n",
       "      <td>0.837506</td>\n",
       "      <td>0.012412</td>\n",
       "      <td>0.054832</td>\n",
       "    </tr>\n",
       "    <tr>\n",
       "      <th>1</th>\n",
       "      <td>cressie-read</td>\n",
       "      <td>0.666667</td>\n",
       "      <td>0.042093</td>\n",
       "      <td>1.0</td>\n",
       "      <td>0.837443</td>\n",
       "      <td>0.012417</td>\n",
       "      <td>0.054836</td>\n",
       "    </tr>\n",
       "    <tr>\n",
       "      <th>2</th>\n",
       "      <td>log-likelihood</td>\n",
       "      <td>0.000000</td>\n",
       "      <td>0.042163</td>\n",
       "      <td>1.0</td>\n",
       "      <td>0.837309</td>\n",
       "      <td>0.012428</td>\n",
       "      <td>0.054844</td>\n",
       "    </tr>\n",
       "    <tr>\n",
       "      <th>3</th>\n",
       "      <td>freeman-tukey</td>\n",
       "      <td>-0.500000</td>\n",
       "      <td>0.042221</td>\n",
       "      <td>1.0</td>\n",
       "      <td>0.837199</td>\n",
       "      <td>0.012436</td>\n",
       "      <td>0.054851</td>\n",
       "    </tr>\n",
       "    <tr>\n",
       "      <th>4</th>\n",
       "      <td>mod-log-likelihood</td>\n",
       "      <td>-1.000000</td>\n",
       "      <td>0.042283</td>\n",
       "      <td>1.0</td>\n",
       "      <td>0.837081</td>\n",
       "      <td>0.012445</td>\n",
       "      <td>0.054858</td>\n",
       "    </tr>\n",
       "    <tr>\n",
       "      <th>5</th>\n",
       "      <td>neyman</td>\n",
       "      <td>-2.000000</td>\n",
       "      <td>0.042418</td>\n",
       "      <td>1.0</td>\n",
       "      <td>0.836824</td>\n",
       "      <td>0.012465</td>\n",
       "      <td>0.054873</td>\n",
       "    </tr>\n",
       "  </tbody>\n",
       "</table>\n",
       "</div>"
      ],
      "text/plain": [
       "                 test    lambda      chi2  dof      pval    cramer     power\n",
       "0             pearson  1.000000  0.042060  1.0  0.837506  0.012412  0.054832\n",
       "1        cressie-read  0.666667  0.042093  1.0  0.837443  0.012417  0.054836\n",
       "2      log-likelihood  0.000000  0.042163  1.0  0.837309  0.012428  0.054844\n",
       "3       freeman-tukey -0.500000  0.042221  1.0  0.837199  0.012436  0.054851\n",
       "4  mod-log-likelihood -1.000000  0.042283  1.0  0.837081  0.012445  0.054858\n",
       "5              neyman -2.000000  0.042418  1.0  0.836824  0.012465  0.054873"
      ]
     },
     "execution_count": 98,
     "metadata": {},
     "output_type": "execute_result"
    }
   ],
   "source": [
    "# Посмотрим статистику еще через пингвин\n",
    "exp, obs, stats = pg.chi2_independence(data=users_premium, \n",
    "                                       x='group', \n",
    "                                       y='premium') \n",
    "stats"
   ]
  },
  {
   "cell_type": "markdown",
   "metadata": {},
   "source": [
    "Согласно статистике (p-value > 0.05) нулевую гипотезу об отсутствии разницы между распределениями пользователей в зависимости от подписки (продлили/ не продлили) в тестовой и контрольной группе мы отклонить не можем."
   ]
  },
  {
   "cell_type": "code",
   "execution_count": 99,
   "metadata": {
    "scrolled": true
   },
   "outputs": [],
   "source": [
    "# Сравним количество дней посещения пользователей в зависимости от группы (visit days)\n",
    "\n",
    "# Преобразуем колонку с номерами дней в нужный формат\n",
    "users_merged['visit_days'] = users_merged['visit_days'].str.split(',\\s*')"
   ]
  },
  {
   "cell_type": "code",
   "execution_count": 100,
   "metadata": {},
   "outputs": [],
   "source": [
    "# Добавим колонку с количеством дней посещения\n",
    "users_merged['days_count'] = users_merged.visit_days.str.len()"
   ]
  },
  {
   "cell_type": "code",
   "execution_count": 101,
   "metadata": {},
   "outputs": [],
   "source": [
    "# Изменим NaN на нули и поменяем тип данных на int\n",
    "users_merged['days_count'] = users_merged['days_count'].fillna(0).astype(int)"
   ]
  },
  {
   "cell_type": "code",
   "execution_count": 102,
   "metadata": {},
   "outputs": [
    {
     "data": {
      "text/html": [
       "<div>\n",
       "<style scoped>\n",
       "    .dataframe tbody tr th:only-of-type {\n",
       "        vertical-align: middle;\n",
       "    }\n",
       "\n",
       "    .dataframe tbody tr th {\n",
       "        vertical-align: top;\n",
       "    }\n",
       "\n",
       "    .dataframe thead th {\n",
       "        text-align: right;\n",
       "    }\n",
       "</style>\n",
       "<table border=\"1\" class=\"dataframe\">\n",
       "  <thead>\n",
       "    <tr style=\"text-align: right;\">\n",
       "      <th></th>\n",
       "      <th>group</th>\n",
       "      <th>days_count</th>\n",
       "    </tr>\n",
       "  </thead>\n",
       "  <tbody>\n",
       "    <tr>\n",
       "      <th>0</th>\n",
       "      <td>control_1</td>\n",
       "      <td>9.707317</td>\n",
       "    </tr>\n",
       "    <tr>\n",
       "      <th>1</th>\n",
       "      <td>control_2</td>\n",
       "      <td>9.287671</td>\n",
       "    </tr>\n",
       "    <tr>\n",
       "      <th>2</th>\n",
       "      <td>test</td>\n",
       "      <td>9.244094</td>\n",
       "    </tr>\n",
       "  </tbody>\n",
       "</table>\n",
       "</div>"
      ],
      "text/plain": [
       "       group  days_count\n",
       "0  control_1    9.707317\n",
       "1  control_2    9.287671\n",
       "2       test    9.244094"
      ]
     },
     "execution_count": 102,
     "metadata": {},
     "output_type": "execute_result"
    }
   ],
   "source": [
    "# Среднее количество дней посещения\n",
    "users_merged.groupby('group', as_index = False).agg({'days_count' : 'mean'})"
   ]
  },
  {
   "cell_type": "code",
   "execution_count": 103,
   "metadata": {},
   "outputs": [
    {
     "data": {
      "image/png": "[encoded data removed]",
      "text/plain": [
       "<Figure size 432x288 with 1 Axes>"
      ]
     },
     "metadata": {},
     "output_type": "display_data"
    }
   ],
   "source": [
    "# Визуализация\n",
    "sns.histplot(data = users_merged.query('group != \"control_1\"'), hue = 'group', x = 'days_count', bins = 30, element='step')\n",
    "sns.despine()\n",
    "plt.title('Days count depending on group\\n')\n",
    "plt.tight_layout()"
   ]
  },
  {
   "cell_type": "markdown",
   "metadata": {},
   "source": [
    "Визуально сильные различия не наблюдаются. Посмотрим статистику"
   ]
  },
  {
   "cell_type": "code",
   "execution_count": 104,
   "metadata": {},
   "outputs": [
    {
     "data": {
      "text/html": [
       "<div>\n",
       "<style scoped>\n",
       "    .dataframe tbody tr th:only-of-type {\n",
       "        vertical-align: middle;\n",
       "    }\n",
       "\n",
       "    .dataframe tbody tr th {\n",
       "        vertical-align: top;\n",
       "    }\n",
       "\n",
       "    .dataframe thead th {\n",
       "        text-align: right;\n",
       "    }\n",
       "</style>\n",
       "<table border=\"1\" class=\"dataframe\">\n",
       "  <thead>\n",
       "    <tr style=\"text-align: right;\">\n",
       "      <th></th>\n",
       "      <th>W</th>\n",
       "      <th>pval</th>\n",
       "      <th>equal_var</th>\n",
       "    </tr>\n",
       "  </thead>\n",
       "  <tbody>\n",
       "    <tr>\n",
       "      <th>levene</th>\n",
       "      <td>0.156987</td>\n",
       "      <td>0.854764</td>\n",
       "      <td>True</td>\n",
       "    </tr>\n",
       "  </tbody>\n",
       "</table>\n",
       "</div>"
      ],
      "text/plain": [
       "               W      pval  equal_var\n",
       "levene  0.156987  0.854764       True"
      ]
     },
     "execution_count": 104,
     "metadata": {},
     "output_type": "execute_result"
    }
   ],
   "source": [
    "# Тест на гомоскедастичность (equal_var = True)\n",
    "pg.homoscedasticity(data = users_merged, dv = 'days_count', group = 'group')"
   ]
  },
  {
   "cell_type": "markdown",
   "metadata": {},
   "source": [
    "Т.к. у нас 2 группы, сравним их распределения при помощи критерия Манна-Уитни:\n",
    "\n",
    "- $H_0$: нет статистически значимых различий между распределениями количества посещений в тестовой и контрольной группе (p-value > 0.05)\n",
    "- $H_1$: есть статистически значимые различия между распределениями количества посещений в тестовой и контрольной группе"
   ]
  },
  {
   "cell_type": "code",
   "execution_count": 105,
   "metadata": {},
   "outputs": [
    {
     "data": {
      "text/plain": [
       "MannwhitneyuResult(statistic=9358.0, pvalue=0.8940167190188826)"
      ]
     },
     "execution_count": 105,
     "metadata": {},
     "output_type": "execute_result"
    }
   ],
   "source": [
    "mannwhitneyu(users_merged.query('group == \"test\"').days_count, users_merged.query('group == \"control_2\"').days_count)"
   ]
  },
  {
   "cell_type": "markdown",
   "metadata": {},
   "source": [
    "Наше p-value > 0.05, мы не можем отвергнуть нулевую гипотезу, т.е. статистически значимых различий между распределениями количества посещений в тестовой и контрольной группе нет, пользователи не стали чаще или реже заходить в приложение в связи с изменением стоимости премиум-подписки."
   ]
  },
  {
   "cell_type": "markdown",
   "metadata": {},
   "source": [
    "**Рассчитаем метрики экономики для тестовой и контрольной группы и создадим сводную таблицу:**"
   ]
  },
  {
   "cell_type": "code",
   "execution_count": 106,
   "metadata": {},
   "outputs": [
    {
     "data": {
      "text/html": [
       "<div>\n",
       "<style scoped>\n",
       "    .dataframe tbody tr th:only-of-type {\n",
       "        vertical-align: middle;\n",
       "    }\n",
       "\n",
       "    .dataframe tbody tr th {\n",
       "        vertical-align: top;\n",
       "    }\n",
       "\n",
       "    .dataframe thead th {\n",
       "        text-align: right;\n",
       "    }\n",
       "</style>\n",
       "<table border=\"1\" class=\"dataframe\">\n",
       "  <thead>\n",
       "    <tr style=\"text-align: right;\">\n",
       "      <th></th>\n",
       "      <th>users</th>\n",
       "      <th>premium_users</th>\n",
       "      <th>CR_pr</th>\n",
       "      <th>ARPPU</th>\n",
       "      <th>ARPPU_pr</th>\n",
       "    </tr>\n",
       "  </thead>\n",
       "  <tbody>\n",
       "    <tr>\n",
       "      <th>test</th>\n",
       "      <td>127</td>\n",
       "      <td>65</td>\n",
       "      <td>0.511811</td>\n",
       "      <td>12868.259843</td>\n",
       "      <td>25142.6</td>\n",
       "    </tr>\n",
       "  </tbody>\n",
       "</table>\n",
       "</div>"
      ],
      "text/plain": [
       "      users  premium_users     CR_pr         ARPPU  ARPPU_pr\n",
       "test    127             65  0.511811  12868.259843   25142.6"
      ]
     },
     "execution_count": 106,
     "metadata": {},
     "output_type": "execute_result"
    }
   ],
   "source": [
    "metrics = []\n",
    "\n",
    "users = users_test.uid.nunique()\n",
    "premium_users = transactions_test.query('revenue > 0 and product_type == \"premium_no_trial\"').uid.nunique()\n",
    "revenue = transactions_test.revenue.sum()\n",
    "CR_pr = (premium_users/users)\n",
    "ARPPU = (revenue/users)\n",
    "ARPPU_pr = (revenue/premium_users)\n",
    "\n",
    "metrics.append(pd.DataFrame(index = ['test'], data = {'users':users, 'premium_users':premium_users, \n",
    "                                                      'CR_pr':CR_pr, 'ARPPU':ARPPU, 'ARPPU_pr':ARPPU_pr}))\n",
    "metrics = pd.concat(metrics)\n",
    "metrics"
   ]
  },
  {
   "cell_type": "code",
   "execution_count": 107,
   "metadata": {},
   "outputs": [
    {
     "data": {
      "text/html": [
       "<div>\n",
       "<style scoped>\n",
       "    .dataframe tbody tr th:only-of-type {\n",
       "        vertical-align: middle;\n",
       "    }\n",
       "\n",
       "    .dataframe tbody tr th {\n",
       "        vertical-align: top;\n",
       "    }\n",
       "\n",
       "    .dataframe thead th {\n",
       "        text-align: right;\n",
       "    }\n",
       "</style>\n",
       "<table border=\"1\" class=\"dataframe\">\n",
       "  <thead>\n",
       "    <tr style=\"text-align: right;\">\n",
       "      <th></th>\n",
       "      <th>users</th>\n",
       "      <th>premium_users</th>\n",
       "      <th>CR_pr</th>\n",
       "      <th>ARPPU</th>\n",
       "      <th>ARPPU_pr</th>\n",
       "    </tr>\n",
       "  </thead>\n",
       "  <tbody>\n",
       "    <tr>\n",
       "      <th>control_2</th>\n",
       "      <td>146</td>\n",
       "      <td>95</td>\n",
       "      <td>0.650685</td>\n",
       "      <td>9038.650685</td>\n",
       "      <td>13890.978947</td>\n",
       "    </tr>\n",
       "  </tbody>\n",
       "</table>\n",
       "</div>"
      ],
      "text/plain": [
       "           users  premium_users     CR_pr        ARPPU      ARPPU_pr\n",
       "control_2    146             95  0.650685  9038.650685  13890.978947"
      ]
     },
     "execution_count": 107,
     "metadata": {},
     "output_type": "execute_result"
    }
   ],
   "source": [
    "metrics_1 = []\n",
    "\n",
    "users = users_control_2.uid.nunique()\n",
    "premium_users = transactions_control_2.query('revenue > 0 and product_type == \"premium_no_trial\"').uid.nunique()\n",
    "revenue = transactions_control_2.revenue.sum()\n",
    "CR_pr = (premium_users/users)\n",
    "ARPPU = (revenue/users)\n",
    "ARPPU_pr = (revenue/premium_users)\n",
    "\n",
    "metrics_1.append(pd.DataFrame(index = ['control_2'], data = {'users':users, 'premium_users':premium_users,\n",
    "                                                      'CR_pr':CR_pr, 'ARPPU':ARPPU, 'ARPPU_pr':ARPPU_pr}))\n",
    "\n",
    "metrics_1 = pd.concat(metrics_1)\n",
    "metrics_1"
   ]
  },
  {
   "cell_type": "code",
   "execution_count": 108,
   "metadata": {},
   "outputs": [
    {
     "data": {
      "text/html": [
       "<div>\n",
       "<style scoped>\n",
       "    .dataframe tbody tr th:only-of-type {\n",
       "        vertical-align: middle;\n",
       "    }\n",
       "\n",
       "    .dataframe tbody tr th {\n",
       "        vertical-align: top;\n",
       "    }\n",
       "\n",
       "    .dataframe thead th {\n",
       "        text-align: right;\n",
       "    }\n",
       "</style>\n",
       "<table border=\"1\" class=\"dataframe\">\n",
       "  <thead>\n",
       "    <tr style=\"text-align: right;\">\n",
       "      <th></th>\n",
       "      <th>users</th>\n",
       "      <th>premium_users</th>\n",
       "      <th>CR_pr</th>\n",
       "      <th>ARPPU</th>\n",
       "      <th>ARPPU_pr</th>\n",
       "    </tr>\n",
       "  </thead>\n",
       "  <tbody>\n",
       "    <tr>\n",
       "      <th>test</th>\n",
       "      <td>127</td>\n",
       "      <td>65</td>\n",
       "      <td>0.5118</td>\n",
       "      <td>12868.26</td>\n",
       "      <td>25142.60</td>\n",
       "    </tr>\n",
       "    <tr>\n",
       "      <th>control_2</th>\n",
       "      <td>146</td>\n",
       "      <td>95</td>\n",
       "      <td>0.6507</td>\n",
       "      <td>9038.65</td>\n",
       "      <td>13890.98</td>\n",
       "    </tr>\n",
       "  </tbody>\n",
       "</table>\n",
       "</div>"
      ],
      "text/plain": [
       "           users  premium_users   CR_pr     ARPPU  ARPPU_pr\n",
       "test         127             65  0.5118  12868.26  25142.60\n",
       "control_2    146             95  0.6507   9038.65  13890.98"
      ]
     },
     "execution_count": 108,
     "metadata": {},
     "output_type": "execute_result"
    }
   ],
   "source": [
    "metrics_merged = pd.concat([metrics, metrics_1])\n",
    "\n",
    "# Округлим значения\n",
    "metrics_merged[['CR_pr']] = metrics_merged[['CR_pr']].round(4)\n",
    "metrics_merged[['ARPPU', 'ARPPU_pr']] = metrics_merged[['ARPPU', 'ARPPU_pr']].round(2)\n",
    "metrics_merged"
   ]
  },
  {
   "cell_type": "code",
   "execution_count": 109,
   "metadata": {},
   "outputs": [
    {
     "data": {
      "text/html": [
       "<style  type=\"text/css\" >\n",
       "#T_b4055654_972d_11ee_bdbb_96000040dfb6row0_col2,#T_b4055654_972d_11ee_bdbb_96000040dfb6row1_col3,#T_b4055654_972d_11ee_bdbb_96000040dfb6row1_col4{\n",
       "            background-color:  coral;\n",
       "        }#T_b4055654_972d_11ee_bdbb_96000040dfb6row0_col3,#T_b4055654_972d_11ee_bdbb_96000040dfb6row0_col4,#T_b4055654_972d_11ee_bdbb_96000040dfb6row1_col2{\n",
       "            background-color:  yellowgreen;\n",
       "        }</style><table id=\"T_b4055654_972d_11ee_bdbb_96000040dfb6\" ><thead>    <tr>        <th class=\"blank level0\" ></th>        <th class=\"col_heading level0 col0\" >users</th>        <th class=\"col_heading level0 col1\" >premium_users</th>        <th class=\"col_heading level0 col2\" >CR_pr</th>        <th class=\"col_heading level0 col3\" >ARPPU</th>        <th class=\"col_heading level0 col4\" >ARPPU_pr</th>    </tr></thead><tbody>\n",
       "                <tr>\n",
       "                        <th id=\"T_b4055654_972d_11ee_bdbb_96000040dfb6level0_row0\" class=\"row_heading level0 row0\" >test</th>\n",
       "                        <td id=\"T_b4055654_972d_11ee_bdbb_96000040dfb6row0_col0\" class=\"data row0 col0\" >127</td>\n",
       "                        <td id=\"T_b4055654_972d_11ee_bdbb_96000040dfb6row0_col1\" class=\"data row0 col1\" >65</td>\n",
       "                        <td id=\"T_b4055654_972d_11ee_bdbb_96000040dfb6row0_col2\" class=\"data row0 col2\" >0.5118</td>\n",
       "                        <td id=\"T_b4055654_972d_11ee_bdbb_96000040dfb6row0_col3\" class=\"data row0 col3\" >12868.26</td>\n",
       "                        <td id=\"T_b4055654_972d_11ee_bdbb_96000040dfb6row0_col4\" class=\"data row0 col4\" >25142.60</td>\n",
       "            </tr>\n",
       "            <tr>\n",
       "                        <th id=\"T_b4055654_972d_11ee_bdbb_96000040dfb6level0_row1\" class=\"row_heading level0 row1\" >control_2</th>\n",
       "                        <td id=\"T_b4055654_972d_11ee_bdbb_96000040dfb6row1_col0\" class=\"data row1 col0\" >146</td>\n",
       "                        <td id=\"T_b4055654_972d_11ee_bdbb_96000040dfb6row1_col1\" class=\"data row1 col1\" >95</td>\n",
       "                        <td id=\"T_b4055654_972d_11ee_bdbb_96000040dfb6row1_col2\" class=\"data row1 col2\" >0.6507</td>\n",
       "                        <td id=\"T_b4055654_972d_11ee_bdbb_96000040dfb6row1_col3\" class=\"data row1 col3\" >9038.65</td>\n",
       "                        <td id=\"T_b4055654_972d_11ee_bdbb_96000040dfb6row1_col4\" class=\"data row1 col4\" >13890.98</td>\n",
       "            </tr>\n",
       "    </tbody></table>"
      ],
      "text/plain": [
       "<pandas.io.formats.style.Styler at 0x7fa7340ae0b8>"
      ]
     },
     "execution_count": 109,
     "metadata": {},
     "output_type": "execute_result"
    }
   ],
   "source": [
    "# Выделим максимальные и минимальные значения метрик цветом\n",
    "(metrics_merged\n",
    " .style\n",
    " .format('{:.4f}', subset = ['CR_pr'])\n",
    " .format('{:.2f}', subset = ['ARPPU', 'ARPPU_pr'])\n",
    " .highlight_max(color='yellowgreen', subset = ['CR_pr', 'ARPPU', 'ARPPU_pr'])\n",
    " .highlight_min(color='coral', subset = ['CR_pr', 'ARPPU', 'ARPPU_pr'])\n",
    ")"
   ]
  },
  {
   "cell_type": "markdown",
   "metadata": {},
   "source": [
    "По результатам вычислений метрик экономики можно сделать следующие выводы:\n",
    "\n",
    "В тестовой группе по сравнению с контрольной уменьшилась метрика CR_pr (конверсия в покупку премиум подписки) на 21%. Т.е. в ходе эксперимента покупать премиум подписку стали реже, видимо стоимость подписки изменилась в большую сторону.\n",
    "\n",
    "В тестовой группе по сравнению с контрольными увеличились метрики: \n",
    "- средний доход на платящего пользователя (+42%)\n",
    "- средний доход на платящего премиум пользователя (+82%)\n",
    "\n",
    "Т.е. хоть количество платящих пользователей уменьшилось, но их \"качество\" - доход от них - значительно увеличился. Пользователи стали покупать на большую сумму (потдверждение того, что стоимость премиум подписки увеличилась).\n"
   ]
  },
  {
   "cell_type": "markdown",
   "metadata": {},
   "source": [
    "Выручка выросла, но она включает выручку от всех продуктов (пробная премиум-подписка, премиум-подписка, другой тип), тогда как цена менялась только на один (премиум-подписка). \n",
    "\n",
    "Посмотрим, как этот эффект роста среднего распределён по видам продуктов, за счёт какого продукта в итоге стали больше зарабатывать."
   ]
  },
  {
   "cell_type": "code",
   "execution_count": 110,
   "metadata": {
    "scrolled": true
   },
   "outputs": [],
   "source": [
    "ARPPU_product_type = transactions_merged.groupby(['group', 'product_type'], as_index = False).agg({'revenue' : 'sum', 'uid' : 'nunique'})\n",
    "ARPPU_product_type['ARPPU'] = ARPPU_product_type.revenue / ARPPU_product_type.uid"
   ]
  },
  {
   "cell_type": "code",
   "execution_count": 111,
   "metadata": {},
   "outputs": [
    {
     "data": {
      "image/png": "[encoded data removed]",
      "text/plain": [
       "<Figure size 432x288 with 1 Axes>"
      ]
     },
     "metadata": {},
     "output_type": "display_data"
    }
   ],
   "source": [
    "sns.barplot(data=ARPPU_product_type, y='product_type', x='ARPPU', hue='group')\n",
    "sns.despine()\n",
    "plt.title('ARPPU distribution by product type depending on group\\n')\n",
    "plt.tight_layout()"
   ]
  },
  {
   "cell_type": "markdown",
   "metadata": {},
   "source": [
    "По графику можем видеть, что ни по одному виду product_type наша выручка не просела, везде идет ее рост в тестовой группе по сравнению с контрольной. \n",
    "\n",
    "Причем для премиум подписки идет самый большой рост, пользователи не начали в большей степени переходить на другие платные опции."
   ]
  },
  {
   "cell_type": "markdown",
   "metadata": {},
   "source": [
    "Сравним конверсию из пользователя в покупателя премиум подписки (CR_pr) в группах.\n",
    "Т.к. переменные номинативные - используем хи-квадрат:\n",
    "\n",
    "- $H_0$: нет статистически значимой разницы между распределением CR_pr в тестовой и контрольной группе (p-value > 0.05)\n",
    "- $H_1$: есть статистически значимая разница между распределением CR_pr в тестовой и контрольной группе"
   ]
  },
  {
   "cell_type": "code",
   "execution_count": 489,
   "metadata": {},
   "outputs": [],
   "source": [
    "# Добавим в данные колонку с конверсией в покупателя премиум подписки в зависимости от типа подписки (product_type)\n",
    "users_merged['CR_pr'] = users_merged.uid.isin(transactions_merged.query('product_type == \"premium_no_trial\"').uid.unique()).astype(int)"
   ]
  },
  {
   "cell_type": "code",
   "execution_count": 490,
   "metadata": {},
   "outputs": [
    {
     "data": {
      "text/plain": [
       "(4.842316410131557, 0.02776956942901534)"
      ]
     },
     "execution_count": 490,
     "metadata": {},
     "output_type": "execute_result"
    }
   ],
   "source": [
    "stat, p, dof, expected = chi2_contingency(pd.crosstab(users_merged.query('group != \"control_1\"').CR_pr, users_merged.query('group != \"control_1\"').group))\n",
    "stat, p"
   ]
  },
  {
   "cell_type": "markdown",
   "metadata": {},
   "source": [
    "Так как p < 0.05, мы отвергаем нулевую гипотезу, т.е. есть статистически значимая разница в распределении CR_pr в тестовой и контрольной группе, конверсия в покупателя премиум подписки уменьшилась."
   ]
  },
  {
   "cell_type": "markdown",
   "metadata": {},
   "source": [
    "Сравним средний доход на платящего пользователя (ARPPU) в группах при помощи статистического F теста:\n",
    "\n",
    "- $H_0$: нет статистически значимых различий между средними значениями ARPPU в тестовой и контрольной группе (p-value > 0.05)\n",
    "- $H_1$: есть статистически значимые различия между средними значениями ARPPU в тестовой и контрольной группе"
   ]
  },
  {
   "cell_type": "markdown",
   "metadata": {},
   "source": [
    "Проверим группы на гомоскедастичность:"
   ]
  },
  {
   "cell_type": "code",
   "execution_count": 491,
   "metadata": {},
   "outputs": [
    {
     "data": {
      "text/html": [
       "<div>\n",
       "<style scoped>\n",
       "    .dataframe tbody tr th:only-of-type {\n",
       "        vertical-align: middle;\n",
       "    }\n",
       "\n",
       "    .dataframe tbody tr th {\n",
       "        vertical-align: top;\n",
       "    }\n",
       "\n",
       "    .dataframe thead th {\n",
       "        text-align: right;\n",
       "    }\n",
       "</style>\n",
       "<table border=\"1\" class=\"dataframe\">\n",
       "  <thead>\n",
       "    <tr style=\"text-align: right;\">\n",
       "      <th></th>\n",
       "      <th>W</th>\n",
       "      <th>pval</th>\n",
       "      <th>equal_var</th>\n",
       "    </tr>\n",
       "  </thead>\n",
       "  <tbody>\n",
       "    <tr>\n",
       "      <th>levene</th>\n",
       "      <td>0.543017</td>\n",
       "      <td>0.581387</td>\n",
       "      <td>True</td>\n",
       "    </tr>\n",
       "  </tbody>\n",
       "</table>\n",
       "</div>"
      ],
      "text/plain": [
       "               W      pval  equal_var\n",
       "levene  0.543017  0.581387       True"
      ]
     },
     "execution_count": 491,
     "metadata": {},
     "output_type": "execute_result"
    }
   ],
   "source": [
    "pg.homoscedasticity(data = users_merged, dv = 'total_revenue', group = 'group')"
   ]
  },
  {
   "cell_type": "code",
   "execution_count": 492,
   "metadata": {},
   "outputs": [
    {
     "name": "stdout",
     "output_type": "stream",
     "text": [
      "F Test: statistic=10.4186, p-value=0.0014\n"
     ]
    }
   ],
   "source": [
    "stat, p_value = f_oneway(users_test.total_revenue, users_control_2.total_revenue)\n",
    "print(f\"F Test: statistic={stat:.4f}, p-value={p_value:.4f}\")"
   ]
  },
  {
   "cell_type": "markdown",
   "metadata": {},
   "source": [
    "Согласно статистике F-теста (p-value < 0.05) нулевую гипотезу об отсутствии различий между средними значениями ARPPU в тестовой и контрольной группе мы отклоняем, т.е. различия статистически не значимы, значение ARPPU увеличилось."
   ]
  },
  {
   "cell_type": "markdown",
   "metadata": {},
   "source": [
    "Сравним средний доход на платящего премиум пользователя (ARPPU_pr) в группах при помощи статистического F теста:\n",
    "\n",
    "- $H_0$: нет статистически значимых различий между средними значениями ARPPU_pr в тестовой и контрольной группе (p-value > 0.05)\n",
    "- $H_1$: есть статистически значимые различия между средними значениями ARPPU_pr в тестовой и контрольной группе"
   ]
  },
  {
   "cell_type": "markdown",
   "metadata": {},
   "source": [
    "Проверим группы на гомоскедастичность:"
   ]
  },
  {
   "cell_type": "code",
   "execution_count": 493,
   "metadata": {},
   "outputs": [
    {
     "data": {
      "text/html": [
       "<div>\n",
       "<style scoped>\n",
       "    .dataframe tbody tr th:only-of-type {\n",
       "        vertical-align: middle;\n",
       "    }\n",
       "\n",
       "    .dataframe tbody tr th {\n",
       "        vertical-align: top;\n",
       "    }\n",
       "\n",
       "    .dataframe thead th {\n",
       "        text-align: right;\n",
       "    }\n",
       "</style>\n",
       "<table border=\"1\" class=\"dataframe\">\n",
       "  <thead>\n",
       "    <tr style=\"text-align: right;\">\n",
       "      <th></th>\n",
       "      <th>W</th>\n",
       "      <th>pval</th>\n",
       "      <th>equal_var</th>\n",
       "    </tr>\n",
       "  </thead>\n",
       "  <tbody>\n",
       "    <tr>\n",
       "      <th>levene</th>\n",
       "      <td>0.538057</td>\n",
       "      <td>0.584272</td>\n",
       "      <td>True</td>\n",
       "    </tr>\n",
       "  </tbody>\n",
       "</table>\n",
       "</div>"
      ],
      "text/plain": [
       "               W      pval  equal_var\n",
       "levene  0.538057  0.584272       True"
      ]
     },
     "execution_count": 493,
     "metadata": {},
     "output_type": "execute_result"
    }
   ],
   "source": [
    "pg.homoscedasticity(data = users_merged.query('total_revenue > 0'), dv = 'total_revenue', group = 'group')"
   ]
  },
  {
   "cell_type": "code",
   "execution_count": 494,
   "metadata": {
    "scrolled": true
   },
   "outputs": [
    {
     "name": "stdout",
     "output_type": "stream",
     "text": [
      "F Test: statistic=10.4186, p-value=0.0014\n"
     ]
    }
   ],
   "source": [
    "stat, p_value = f_oneway(users_test.query('total_revenue > 0').total_revenue, \n",
    "                         users_control_2.query('total_revenue > 0').total_revenue)\n",
    "print(f\"F Test: statistic={stat:.4f}, p-value={p_value:.4f}\")"
   ]
  },
  {
   "cell_type": "markdown",
   "metadata": {},
   "source": [
    "p < 0.05, мы отвергаем нулевую гипотезу и делаем вывод, что ARPPU_pr в тестовой группе статистически значимо больше ARPPU_pr в контрольной группе. "
   ]
  },
  {
   "cell_type": "markdown",
   "metadata": {},
   "source": [
    "## 4: Подводим итоги\n",
    "Из предоставленных датасетов были отобраны только новые пользователи из нескольких стран, в которых была изменена стоимость премиум-подписки при покупке через две новые платежные системы.\n",
    "\n",
    "**По итоговым выборкам можно сказать следующее:**\n",
    "- Выборки для анализа репрезентативные, группы пользователей распределены одинаково по приведенным признакам, но были произведены некоторые манипуляции по удалению неподходящих данных и выбросов (в особенности в 1 контрольной группе, поэтому в А/В тестах использовалась 2 контрольная группа)\n",
    "- Основная возрастная категория - молодежь (25-35 лет). Средний возраст пользователей - 32 года\n",
    "- Средний коэффициент привлекательности пользователей - 340-382 (max - 1000)\n",
    "- По географическому признаку превалируют пользователи из США\n",
    "- По половому признаку превалируют мужчины"
   ]
  },
  {
   "cell_type": "markdown",
   "metadata": {},
   "source": [
    "**Согласно проведенным исследованиям:**\n",
    "- Статистически значимо не изменилось количество дней посещения приложения\n",
    "- Статистически значимо не изменилось количество пользователей, продливших премиум подписку\n",
    "\n",
    "- Конверсия в покупку премиум подписки (CR_pr) уменьшилась на 21% (стат значимо). Т.е. в ходе эксперимента покупать стали реже, видимо стоимость подписки изменилась в большую сторону, и часть пользователей отказалась от платных услуг\n",
    "\n",
    "- Средний доход на платящего пользователя (ARPPU) увеличился на 42% (стат значимо) (причем доход увеличился по всем видам продукта)\n",
    "- Средний доход на платящего за премиум подписку пользователя (ARPPU_pr) увеличился на 82% (стат значимо). Т.е. хоть количество платящих пользователей уменьшилось, но их \"качество\" - доход от них - значимо увеличился. Платящие пользователи стали покупать на большую сумму (что логично при увеличении стоимости премиум подписки)\n"
   ]
  },
  {
   "cell_type": "markdown",
   "metadata": {},
   "source": [
    "Таким образом, судя по нашей основной метрике - ARPPU_pr - эксперимент оказался удачным, изменение (предполагаемо повышение) стоимости премиум подписки при оплате через 2 новые платежные системы статистически значимо увеличило метрику ARPPU_pr.\n",
    "\n",
    "Но есть опасение, что в долгосрочной перспективе падениеCR_pr может привести к большим потерям платящих за премиум подписку пользователей, и ARPPU_pr не сможет нивелировать эти потери. \n",
    "\n",
    "Рекомендуется раскатывать данное обновление, но также необходимо периодически мониторить данные экономические показатели."
   ]
  }
 ],
 "metadata": {
  "kernelspec": {
   "display_name": "Python 3",
   "language": "python",
   "name": "python3"
  },
  "language_info": {
   "codemirror_mode": {
    "name": "ipython",
    "version": 3
   },
   "file_extension": ".py",
   "mimetype": "text/x-python",
   "name": "python",
   "nbconvert_exporter": "python",
   "pygments_lexer": "ipython3",
   "version": "3.7.3"
  }
 },
 "nbformat": 4,
 "nbformat_minor": 4
}
